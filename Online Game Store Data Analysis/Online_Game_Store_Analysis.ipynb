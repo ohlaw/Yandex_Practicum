{
 "cells": [
  {
   "cell_type": "markdown",
   "metadata": {},
   "source": [
    "## Project Description\n",
    "\n",
    "You work for the online store Ice, which sells video games all over the world. User and expert reviews, genres, platforms (e.g. Xbox or PlayStation), and historical data on game sales are available from open sources. You need to identify patterns that determine whether a game succeeds or not. This will allow you to spot potential big winners and plan advertising campaigns. In front of you is data going back to 2016. Let’s imagine that it’s December 2016 and you’re planning a campaign for 2017. (The important thing is to get experience working with data. It doesn't really matter whether you're forecasting 2017 sales based on data from 2016 or 2027 sales based on data from 2026.) The dataset contains the abbreviation ESRB. The Entertainment Software Rating Board evaluates a game's content and assigns an age rating such as Teen or Mature\n",
    "\n",
    "\n",
    "\n",
    "\n",
    "### Table of contents\n",
    "\n",
    "<a href=\"#Step-1.-Open-the-data-file-and-study-the-general-information\">Step 1. Open the data file and study the general information<a/>  \n",
    "    \n",
    "<a href=\"#Step-2.-Prepare-the-data\">Step 2. Prepare the data</a>\n",
    "* <a href=\"#Replace-the-column-names-(make-them-lowercase)\">Replace the column names (make them lowercase)</a>\n",
    "* <a href=\"#Identify-and-study-missing-values\">Identify and study missing values</a>\n",
    "* <a href=\"#Check-for-duplicates\">Check for duplicates</a>\n",
    "* <a href=\"#Convert-the-data-to-the-required-types\">Convert the data to the required types</a>\n",
    "* <a href=\"#Calculate-the-total-sales\">Calculate the total sales</a>\n",
    "    \n",
    "<a href=\"#Step-3.-Analyze-the-data\">Step 3. Analyze the data<a/>\n",
    "* <a href=\"#Number-of-games-released-in-different-years\">Number of games released in different years<a/>\n",
    "* <a href=\"#How-sales-varied-from-platform-to-platform\">How sales varied from platform to platform<a/>\n",
    "* <a href=\"#Determine-what-period-you-should-take-data-for\">Determine what period you should take data for<a/>\n",
    "* <a href=\"#Which-platforms-are-leading-in-sales?\">Which platforms are leading in sales?<a/>\n",
    "* <a href=\"#Box-plot-for-the-global-sales-of-all-games,-broken-down-by-platform\">Box plot for the global sales of all games, broken down by platform<a/>\n",
    "* <a href=\"#How-user-and-professional-reviews-affect-sales-for-one-popular-platform\">How user and professional reviews affect sales for one popular platform<a/>\n",
    "* <a href=\"#Compare-the-sales-of-the-same-games-on-other-platforms\">Compare the sales of the same games on other platforms<a/>\n",
    "* <a href=\"#General-distribution-of-games-by-genre\">General distribution of games by genre<a/>\n",
    "     \n",
    "<a href=\"#Step-4.-Create-a-user-profile-for-each-region\">Step 4. Create a user profile for each region<a/>\n",
    "* <a href=\"#Top-5-platforms-in-each-region\">Top 5 platforms in each region<a/>\n",
    "* <a href=\"#Top-5-genre-in-each-region\">Top 5 genre in each region<a/>\n",
    "* <a href=\"#Do-ESRB-ratings-affect-sales-in-individual-regions?\">Do ESRB ratings affect sales in individual regions?<a/>\n",
    "    \n",
    "<a href=\"#Step-5.-Test-the-following-hypotheses\">Step 5. Test the following hypotheses<a/>\n",
    "* <a href=\"#Average-user-ratings-of-the-Xbox-One-and-PC-platforms-are-the-same\">Average user ratings of the Xbox One and PC platforms are the same</a>\n",
    "* <a href=\"#Average-user-ratings-for-the-Action-and-Sports-genres-are-different\">Average user ratings for the Action and Sports genres are different</a>\n",
    "    \n",
    "<a href=\"#Step-6.-Write-a-general-conclusion\">Step 6. Write a general conclusion<a/>"
   ]
  },
  {
   "cell_type": "markdown",
   "metadata": {},
   "source": [
    "### Step 1. Open the data file and study the general information"
   ]
  },
  {
   "cell_type": "code",
   "execution_count": 2,
   "metadata": {},
   "outputs": [
    {
     "name": "stdout",
     "output_type": "stream",
     "text": [
      "<class 'pandas.core.frame.DataFrame'>\n",
      "RangeIndex: 16715 entries, 0 to 16714\n",
      "Data columns (total 11 columns):\n",
      "Name               16713 non-null object\n",
      "Platform           16715 non-null object\n",
      "Year_of_Release    16446 non-null float64\n",
      "Genre              16713 non-null object\n",
      "NA_sales           16715 non-null float64\n",
      "EU_sales           16715 non-null float64\n",
      "JP_sales           16715 non-null float64\n",
      "Other_sales        16715 non-null float64\n",
      "Critic_Score       8137 non-null float64\n",
      "User_Score         10014 non-null object\n",
      "Rating             9949 non-null object\n",
      "dtypes: float64(6), object(5)\n",
      "memory usage: 1.4+ MB\n"
     ]
    },
    {
     "data": {
      "text/plain": [
       "None"
      ]
     },
     "metadata": {},
     "output_type": "display_data"
    },
    {
     "data": {
      "text/html": [
       "<div>\n",
       "<style scoped>\n",
       "    .dataframe tbody tr th:only-of-type {\n",
       "        vertical-align: middle;\n",
       "    }\n",
       "\n",
       "    .dataframe tbody tr th {\n",
       "        vertical-align: top;\n",
       "    }\n",
       "\n",
       "    .dataframe thead th {\n",
       "        text-align: right;\n",
       "    }\n",
       "</style>\n",
       "<table border=\"1\" class=\"dataframe\">\n",
       "  <thead>\n",
       "    <tr style=\"text-align: right;\">\n",
       "      <th></th>\n",
       "      <th>Name</th>\n",
       "      <th>Platform</th>\n",
       "      <th>Year_of_Release</th>\n",
       "      <th>Genre</th>\n",
       "      <th>NA_sales</th>\n",
       "      <th>EU_sales</th>\n",
       "      <th>JP_sales</th>\n",
       "      <th>Other_sales</th>\n",
       "      <th>Critic_Score</th>\n",
       "      <th>User_Score</th>\n",
       "      <th>Rating</th>\n",
       "    </tr>\n",
       "  </thead>\n",
       "  <tbody>\n",
       "    <tr>\n",
       "      <td>0</td>\n",
       "      <td>Wii Sports</td>\n",
       "      <td>Wii</td>\n",
       "      <td>2006.0</td>\n",
       "      <td>Sports</td>\n",
       "      <td>41.36</td>\n",
       "      <td>28.96</td>\n",
       "      <td>3.77</td>\n",
       "      <td>8.45</td>\n",
       "      <td>76.0</td>\n",
       "      <td>8</td>\n",
       "      <td>E</td>\n",
       "    </tr>\n",
       "    <tr>\n",
       "      <td>1</td>\n",
       "      <td>Super Mario Bros.</td>\n",
       "      <td>NES</td>\n",
       "      <td>1985.0</td>\n",
       "      <td>Platform</td>\n",
       "      <td>29.08</td>\n",
       "      <td>3.58</td>\n",
       "      <td>6.81</td>\n",
       "      <td>0.77</td>\n",
       "      <td>NaN</td>\n",
       "      <td>NaN</td>\n",
       "      <td>NaN</td>\n",
       "    </tr>\n",
       "    <tr>\n",
       "      <td>2</td>\n",
       "      <td>Mario Kart Wii</td>\n",
       "      <td>Wii</td>\n",
       "      <td>2008.0</td>\n",
       "      <td>Racing</td>\n",
       "      <td>15.68</td>\n",
       "      <td>12.76</td>\n",
       "      <td>3.79</td>\n",
       "      <td>3.29</td>\n",
       "      <td>82.0</td>\n",
       "      <td>8.3</td>\n",
       "      <td>E</td>\n",
       "    </tr>\n",
       "    <tr>\n",
       "      <td>3</td>\n",
       "      <td>Wii Sports Resort</td>\n",
       "      <td>Wii</td>\n",
       "      <td>2009.0</td>\n",
       "      <td>Sports</td>\n",
       "      <td>15.61</td>\n",
       "      <td>10.93</td>\n",
       "      <td>3.28</td>\n",
       "      <td>2.95</td>\n",
       "      <td>80.0</td>\n",
       "      <td>8</td>\n",
       "      <td>E</td>\n",
       "    </tr>\n",
       "    <tr>\n",
       "      <td>4</td>\n",
       "      <td>Pokemon Red/Pokemon Blue</td>\n",
       "      <td>GB</td>\n",
       "      <td>1996.0</td>\n",
       "      <td>Role-Playing</td>\n",
       "      <td>11.27</td>\n",
       "      <td>8.89</td>\n",
       "      <td>10.22</td>\n",
       "      <td>1.00</td>\n",
       "      <td>NaN</td>\n",
       "      <td>NaN</td>\n",
       "      <td>NaN</td>\n",
       "    </tr>\n",
       "    <tr>\n",
       "      <td>5</td>\n",
       "      <td>Tetris</td>\n",
       "      <td>GB</td>\n",
       "      <td>1989.0</td>\n",
       "      <td>Puzzle</td>\n",
       "      <td>23.20</td>\n",
       "      <td>2.26</td>\n",
       "      <td>4.22</td>\n",
       "      <td>0.58</td>\n",
       "      <td>NaN</td>\n",
       "      <td>NaN</td>\n",
       "      <td>NaN</td>\n",
       "    </tr>\n",
       "    <tr>\n",
       "      <td>6</td>\n",
       "      <td>New Super Mario Bros.</td>\n",
       "      <td>DS</td>\n",
       "      <td>2006.0</td>\n",
       "      <td>Platform</td>\n",
       "      <td>11.28</td>\n",
       "      <td>9.14</td>\n",
       "      <td>6.50</td>\n",
       "      <td>2.88</td>\n",
       "      <td>89.0</td>\n",
       "      <td>8.5</td>\n",
       "      <td>E</td>\n",
       "    </tr>\n",
       "    <tr>\n",
       "      <td>7</td>\n",
       "      <td>Wii Play</td>\n",
       "      <td>Wii</td>\n",
       "      <td>2006.0</td>\n",
       "      <td>Misc</td>\n",
       "      <td>13.96</td>\n",
       "      <td>9.18</td>\n",
       "      <td>2.93</td>\n",
       "      <td>2.84</td>\n",
       "      <td>58.0</td>\n",
       "      <td>6.6</td>\n",
       "      <td>E</td>\n",
       "    </tr>\n",
       "    <tr>\n",
       "      <td>8</td>\n",
       "      <td>New Super Mario Bros. Wii</td>\n",
       "      <td>Wii</td>\n",
       "      <td>2009.0</td>\n",
       "      <td>Platform</td>\n",
       "      <td>14.44</td>\n",
       "      <td>6.94</td>\n",
       "      <td>4.70</td>\n",
       "      <td>2.24</td>\n",
       "      <td>87.0</td>\n",
       "      <td>8.4</td>\n",
       "      <td>E</td>\n",
       "    </tr>\n",
       "    <tr>\n",
       "      <td>9</td>\n",
       "      <td>Duck Hunt</td>\n",
       "      <td>NES</td>\n",
       "      <td>1984.0</td>\n",
       "      <td>Shooter</td>\n",
       "      <td>26.93</td>\n",
       "      <td>0.63</td>\n",
       "      <td>0.28</td>\n",
       "      <td>0.47</td>\n",
       "      <td>NaN</td>\n",
       "      <td>NaN</td>\n",
       "      <td>NaN</td>\n",
       "    </tr>\n",
       "  </tbody>\n",
       "</table>\n",
       "</div>"
      ],
      "text/plain": [
       "                        Name Platform  Year_of_Release         Genre  \\\n",
       "0                 Wii Sports      Wii           2006.0        Sports   \n",
       "1          Super Mario Bros.      NES           1985.0      Platform   \n",
       "2             Mario Kart Wii      Wii           2008.0        Racing   \n",
       "3          Wii Sports Resort      Wii           2009.0        Sports   \n",
       "4   Pokemon Red/Pokemon Blue       GB           1996.0  Role-Playing   \n",
       "5                     Tetris       GB           1989.0        Puzzle   \n",
       "6      New Super Mario Bros.       DS           2006.0      Platform   \n",
       "7                   Wii Play      Wii           2006.0          Misc   \n",
       "8  New Super Mario Bros. Wii      Wii           2009.0      Platform   \n",
       "9                  Duck Hunt      NES           1984.0       Shooter   \n",
       "\n",
       "   NA_sales  EU_sales  JP_sales  Other_sales  Critic_Score User_Score Rating  \n",
       "0     41.36     28.96      3.77         8.45          76.0          8      E  \n",
       "1     29.08      3.58      6.81         0.77           NaN        NaN    NaN  \n",
       "2     15.68     12.76      3.79         3.29          82.0        8.3      E  \n",
       "3     15.61     10.93      3.28         2.95          80.0          8      E  \n",
       "4     11.27      8.89     10.22         1.00           NaN        NaN    NaN  \n",
       "5     23.20      2.26      4.22         0.58           NaN        NaN    NaN  \n",
       "6     11.28      9.14      6.50         2.88          89.0        8.5      E  \n",
       "7     13.96      9.18      2.93         2.84          58.0        6.6      E  \n",
       "8     14.44      6.94      4.70         2.24          87.0        8.4      E  \n",
       "9     26.93      0.63      0.28         0.47           NaN        NaN    NaN  "
      ]
     },
     "metadata": {},
     "output_type": "display_data"
    }
   ],
   "source": [
    "# load libraries\n",
    "from IPython.display import display\n",
    "import pandas as pd\n",
    "import matplotlib.pyplot as plt\n",
    "import seaborn as sns\n",
    "import numpy as np\n",
    "from scipy import stats as st\n",
    "\n",
    "# load the csv data files to python and display the size and five ten rows\n",
    "games = pd.read_csv('/datasets/games.csv')\n",
    "display(games.info())\n",
    "display(games.head(10))"
   ]
  },
  {
   "cell_type": "markdown",
   "metadata": {},
   "source": [
    "**Conclusion**\n",
    "\n",
    "The dataset consists of 16715 rows and 11 columns in total, 3 columns with categorical variables [`Name`, `Platform`, `Genre`, `Rating`] and 5 columns with quantitative variables [`Year_of_Release`, `NA_sales`, `EU_sales`, `JP_sales`, `Other_sales`, `Critic_Score`, `User_Score`].\n",
    "\n",
    "There are six columns with missing values [`Name`, `Year_of_Release`, `Genre`, `Critic_Score`, `User_Score` and `Rating`].\n",
    "\n",
    "[<a href=\"#Table-of-contents\">Back to top</a>]"
   ]
  },
  {
   "cell_type": "markdown",
   "metadata": {},
   "source": [
    "### Step 2. Prepare the data\n",
    "\n",
    "#### Replace the column names (make them lowercase)"
   ]
  },
  {
   "cell_type": "code",
   "execution_count": 3,
   "metadata": {},
   "outputs": [
    {
     "data": {
      "text/html": [
       "<div>\n",
       "<style scoped>\n",
       "    .dataframe tbody tr th:only-of-type {\n",
       "        vertical-align: middle;\n",
       "    }\n",
       "\n",
       "    .dataframe tbody tr th {\n",
       "        vertical-align: top;\n",
       "    }\n",
       "\n",
       "    .dataframe thead th {\n",
       "        text-align: right;\n",
       "    }\n",
       "</style>\n",
       "<table border=\"1\" class=\"dataframe\">\n",
       "  <thead>\n",
       "    <tr style=\"text-align: right;\">\n",
       "      <th></th>\n",
       "      <th>name</th>\n",
       "      <th>platform</th>\n",
       "      <th>year_of_release</th>\n",
       "      <th>genre</th>\n",
       "      <th>na_sales</th>\n",
       "      <th>eu_sales</th>\n",
       "      <th>jp_sales</th>\n",
       "      <th>other_sales</th>\n",
       "      <th>critic_score</th>\n",
       "      <th>user_score</th>\n",
       "      <th>rating</th>\n",
       "    </tr>\n",
       "  </thead>\n",
       "  <tbody>\n",
       "    <tr>\n",
       "      <td>0</td>\n",
       "      <td>Wii Sports</td>\n",
       "      <td>Wii</td>\n",
       "      <td>2006.0</td>\n",
       "      <td>Sports</td>\n",
       "      <td>41.36</td>\n",
       "      <td>28.96</td>\n",
       "      <td>3.77</td>\n",
       "      <td>8.45</td>\n",
       "      <td>76.0</td>\n",
       "      <td>8</td>\n",
       "      <td>E</td>\n",
       "    </tr>\n",
       "    <tr>\n",
       "      <td>1</td>\n",
       "      <td>Super Mario Bros.</td>\n",
       "      <td>NES</td>\n",
       "      <td>1985.0</td>\n",
       "      <td>Platform</td>\n",
       "      <td>29.08</td>\n",
       "      <td>3.58</td>\n",
       "      <td>6.81</td>\n",
       "      <td>0.77</td>\n",
       "      <td>NaN</td>\n",
       "      <td>NaN</td>\n",
       "      <td>NaN</td>\n",
       "    </tr>\n",
       "    <tr>\n",
       "      <td>2</td>\n",
       "      <td>Mario Kart Wii</td>\n",
       "      <td>Wii</td>\n",
       "      <td>2008.0</td>\n",
       "      <td>Racing</td>\n",
       "      <td>15.68</td>\n",
       "      <td>12.76</td>\n",
       "      <td>3.79</td>\n",
       "      <td>3.29</td>\n",
       "      <td>82.0</td>\n",
       "      <td>8.3</td>\n",
       "      <td>E</td>\n",
       "    </tr>\n",
       "    <tr>\n",
       "      <td>3</td>\n",
       "      <td>Wii Sports Resort</td>\n",
       "      <td>Wii</td>\n",
       "      <td>2009.0</td>\n",
       "      <td>Sports</td>\n",
       "      <td>15.61</td>\n",
       "      <td>10.93</td>\n",
       "      <td>3.28</td>\n",
       "      <td>2.95</td>\n",
       "      <td>80.0</td>\n",
       "      <td>8</td>\n",
       "      <td>E</td>\n",
       "    </tr>\n",
       "    <tr>\n",
       "      <td>4</td>\n",
       "      <td>Pokemon Red/Pokemon Blue</td>\n",
       "      <td>GB</td>\n",
       "      <td>1996.0</td>\n",
       "      <td>Role-Playing</td>\n",
       "      <td>11.27</td>\n",
       "      <td>8.89</td>\n",
       "      <td>10.22</td>\n",
       "      <td>1.00</td>\n",
       "      <td>NaN</td>\n",
       "      <td>NaN</td>\n",
       "      <td>NaN</td>\n",
       "    </tr>\n",
       "  </tbody>\n",
       "</table>\n",
       "</div>"
      ],
      "text/plain": [
       "                       name platform  year_of_release         genre  na_sales  \\\n",
       "0                Wii Sports      Wii           2006.0        Sports     41.36   \n",
       "1         Super Mario Bros.      NES           1985.0      Platform     29.08   \n",
       "2            Mario Kart Wii      Wii           2008.0        Racing     15.68   \n",
       "3         Wii Sports Resort      Wii           2009.0        Sports     15.61   \n",
       "4  Pokemon Red/Pokemon Blue       GB           1996.0  Role-Playing     11.27   \n",
       "\n",
       "   eu_sales  jp_sales  other_sales  critic_score user_score rating  \n",
       "0     28.96      3.77         8.45          76.0          8      E  \n",
       "1      3.58      6.81         0.77           NaN        NaN    NaN  \n",
       "2     12.76      3.79         3.29          82.0        8.3      E  \n",
       "3     10.93      3.28         2.95          80.0          8      E  \n",
       "4      8.89     10.22         1.00           NaN        NaN    NaN  "
      ]
     },
     "metadata": {},
     "output_type": "display_data"
    },
    {
     "data": {
      "text/html": [
       "<div>\n",
       "<style scoped>\n",
       "    .dataframe tbody tr th:only-of-type {\n",
       "        vertical-align: middle;\n",
       "    }\n",
       "\n",
       "    .dataframe tbody tr th {\n",
       "        vertical-align: top;\n",
       "    }\n",
       "\n",
       "    .dataframe thead th {\n",
       "        text-align: right;\n",
       "    }\n",
       "</style>\n",
       "<table border=\"1\" class=\"dataframe\">\n",
       "  <thead>\n",
       "    <tr style=\"text-align: right;\">\n",
       "      <th></th>\n",
       "      <th>game_name</th>\n",
       "      <th>platform</th>\n",
       "      <th>year_of_release</th>\n",
       "      <th>genre</th>\n",
       "      <th>north_american_sales</th>\n",
       "      <th>europe_sales</th>\n",
       "      <th>japan_sales</th>\n",
       "      <th>other_countries_sales</th>\n",
       "      <th>critic_score</th>\n",
       "      <th>user_score</th>\n",
       "      <th>esrb_rating</th>\n",
       "    </tr>\n",
       "  </thead>\n",
       "  <tbody>\n",
       "    <tr>\n",
       "      <td>0</td>\n",
       "      <td>Wii Sports</td>\n",
       "      <td>Wii</td>\n",
       "      <td>2006.0</td>\n",
       "      <td>Sports</td>\n",
       "      <td>41.36</td>\n",
       "      <td>28.96</td>\n",
       "      <td>3.77</td>\n",
       "      <td>8.45</td>\n",
       "      <td>76.0</td>\n",
       "      <td>8</td>\n",
       "      <td>E</td>\n",
       "    </tr>\n",
       "    <tr>\n",
       "      <td>1</td>\n",
       "      <td>Super Mario Bros.</td>\n",
       "      <td>NES</td>\n",
       "      <td>1985.0</td>\n",
       "      <td>Platform</td>\n",
       "      <td>29.08</td>\n",
       "      <td>3.58</td>\n",
       "      <td>6.81</td>\n",
       "      <td>0.77</td>\n",
       "      <td>NaN</td>\n",
       "      <td>NaN</td>\n",
       "      <td>NaN</td>\n",
       "    </tr>\n",
       "    <tr>\n",
       "      <td>2</td>\n",
       "      <td>Mario Kart Wii</td>\n",
       "      <td>Wii</td>\n",
       "      <td>2008.0</td>\n",
       "      <td>Racing</td>\n",
       "      <td>15.68</td>\n",
       "      <td>12.76</td>\n",
       "      <td>3.79</td>\n",
       "      <td>3.29</td>\n",
       "      <td>82.0</td>\n",
       "      <td>8.3</td>\n",
       "      <td>E</td>\n",
       "    </tr>\n",
       "    <tr>\n",
       "      <td>3</td>\n",
       "      <td>Wii Sports Resort</td>\n",
       "      <td>Wii</td>\n",
       "      <td>2009.0</td>\n",
       "      <td>Sports</td>\n",
       "      <td>15.61</td>\n",
       "      <td>10.93</td>\n",
       "      <td>3.28</td>\n",
       "      <td>2.95</td>\n",
       "      <td>80.0</td>\n",
       "      <td>8</td>\n",
       "      <td>E</td>\n",
       "    </tr>\n",
       "    <tr>\n",
       "      <td>4</td>\n",
       "      <td>Pokemon Red/Pokemon Blue</td>\n",
       "      <td>GB</td>\n",
       "      <td>1996.0</td>\n",
       "      <td>Role-Playing</td>\n",
       "      <td>11.27</td>\n",
       "      <td>8.89</td>\n",
       "      <td>10.22</td>\n",
       "      <td>1.00</td>\n",
       "      <td>NaN</td>\n",
       "      <td>NaN</td>\n",
       "      <td>NaN</td>\n",
       "    </tr>\n",
       "  </tbody>\n",
       "</table>\n",
       "</div>"
      ],
      "text/plain": [
       "                  game_name platform  year_of_release         genre  \\\n",
       "0                Wii Sports      Wii           2006.0        Sports   \n",
       "1         Super Mario Bros.      NES           1985.0      Platform   \n",
       "2            Mario Kart Wii      Wii           2008.0        Racing   \n",
       "3         Wii Sports Resort      Wii           2009.0        Sports   \n",
       "4  Pokemon Red/Pokemon Blue       GB           1996.0  Role-Playing   \n",
       "\n",
       "   north_american_sales  europe_sales  japan_sales  other_countries_sales  \\\n",
       "0                 41.36         28.96         3.77                   8.45   \n",
       "1                 29.08          3.58         6.81                   0.77   \n",
       "2                 15.68         12.76         3.79                   3.29   \n",
       "3                 15.61         10.93         3.28                   2.95   \n",
       "4                 11.27          8.89        10.22                   1.00   \n",
       "\n",
       "   critic_score user_score esrb_rating  \n",
       "0          76.0          8           E  \n",
       "1           NaN        NaN         NaN  \n",
       "2          82.0        8.3           E  \n",
       "3          80.0          8           E  \n",
       "4           NaN        NaN         NaN  "
      ]
     },
     "metadata": {},
     "output_type": "display_data"
    }
   ],
   "source": [
    "# make the columns names to lower case\n",
    "games.columns = [x.lower() for x in games.columns]\n",
    "display(games.head())\n",
    "\n",
    "# rename column names\n",
    "games = games.rename({'name':'game_name',\n",
    "                      'na_sales':'north_american_sales', \n",
    "                      'eu_sales':'europe_sales', \n",
    "                      'jp_sales':'japan_sales', \n",
    "                      'other_sales':'other_countries_sales', \n",
    "                      'rating':'esrb_rating'}, axis=1)\n",
    "display(games.head())"
   ]
  },
  {
   "cell_type": "markdown",
   "metadata": {},
   "source": [
    "**Conclusion**\n",
    "\n",
    "We decided to make the column names lowercase so as to avoid typographic error when carrying out our analysis as Python is case sensitive. We also rename some selected columns so that our dataframe will be understandable by just taking a look at it.\n",
    "\n",
    "[<a href=\"#Table-of-contents\">Back to top</a>]"
   ]
  },
  {
   "cell_type": "markdown",
   "metadata": {},
   "source": [
    "#### Identify and study missing values"
   ]
  },
  {
   "cell_type": "code",
   "execution_count": 4,
   "metadata": {},
   "outputs": [
    {
     "data": {
      "text/plain": [
       "'The percentage of missing values per column:'"
      ]
     },
     "metadata": {},
     "output_type": "display_data"
    },
    {
     "data": {
      "text/plain": [
       "game_name                0.000120\n",
       "platform                 0.000000\n",
       "year_of_release          0.016093\n",
       "genre                    0.000120\n",
       "north_american_sales     0.000000\n",
       "europe_sales             0.000000\n",
       "japan_sales              0.000000\n",
       "other_countries_sales    0.000000\n",
       "critic_score             0.513192\n",
       "user_score               0.400897\n",
       "esrb_rating              0.404786\n",
       "dtype: float64"
      ]
     },
     "metadata": {},
     "output_type": "display_data"
    }
   ],
   "source": [
    "display(\"The percentage of missing values per column:\")\n",
    "display(games.isnull().sum() / len(games))"
   ]
  },
  {
   "cell_type": "markdown",
   "metadata": {},
   "source": [
    "**Conclusion**\n",
    "\n",
    "We investigated the dataframe to know the percentage of the missing values in each column. A significant 51% values are missing in column `critic_score`, 40% each in column `user_score` and column `esrb_rating`, 1.6% in `year_of_release`, and less than 1% each in column `game_name` and column `genre`.  \n",
    "\n",
    "\n",
    "[<a href=\"#Table-of-contents\">Back to top</a>]"
   ]
  },
  {
   "cell_type": "markdown",
   "metadata": {},
   "source": [
    "**game_name & genre**"
   ]
  },
  {
   "cell_type": "code",
   "execution_count": 5,
   "metadata": {},
   "outputs": [
    {
     "data": {
      "text/plain": [
       "2"
      ]
     },
     "metadata": {},
     "output_type": "display_data"
    },
    {
     "data": {
      "text/html": [
       "<div>\n",
       "<style scoped>\n",
       "    .dataframe tbody tr th:only-of-type {\n",
       "        vertical-align: middle;\n",
       "    }\n",
       "\n",
       "    .dataframe tbody tr th {\n",
       "        vertical-align: top;\n",
       "    }\n",
       "\n",
       "    .dataframe thead th {\n",
       "        text-align: right;\n",
       "    }\n",
       "</style>\n",
       "<table border=\"1\" class=\"dataframe\">\n",
       "  <thead>\n",
       "    <tr style=\"text-align: right;\">\n",
       "      <th></th>\n",
       "      <th>game_name</th>\n",
       "      <th>platform</th>\n",
       "      <th>year_of_release</th>\n",
       "      <th>genre</th>\n",
       "      <th>north_american_sales</th>\n",
       "      <th>europe_sales</th>\n",
       "      <th>japan_sales</th>\n",
       "      <th>other_countries_sales</th>\n",
       "      <th>critic_score</th>\n",
       "      <th>user_score</th>\n",
       "      <th>esrb_rating</th>\n",
       "    </tr>\n",
       "  </thead>\n",
       "  <tbody>\n",
       "    <tr>\n",
       "      <td>659</td>\n",
       "      <td>NaN</td>\n",
       "      <td>GEN</td>\n",
       "      <td>1993.0</td>\n",
       "      <td>NaN</td>\n",
       "      <td>1.78</td>\n",
       "      <td>0.53</td>\n",
       "      <td>0.00</td>\n",
       "      <td>0.08</td>\n",
       "      <td>NaN</td>\n",
       "      <td>NaN</td>\n",
       "      <td>NaN</td>\n",
       "    </tr>\n",
       "    <tr>\n",
       "      <td>14244</td>\n",
       "      <td>NaN</td>\n",
       "      <td>GEN</td>\n",
       "      <td>1993.0</td>\n",
       "      <td>NaN</td>\n",
       "      <td>0.00</td>\n",
       "      <td>0.00</td>\n",
       "      <td>0.03</td>\n",
       "      <td>0.00</td>\n",
       "      <td>NaN</td>\n",
       "      <td>NaN</td>\n",
       "      <td>NaN</td>\n",
       "    </tr>\n",
       "  </tbody>\n",
       "</table>\n",
       "</div>"
      ],
      "text/plain": [
       "      game_name platform  year_of_release genre  north_american_sales  \\\n",
       "659         NaN      GEN           1993.0   NaN                  1.78   \n",
       "14244       NaN      GEN           1993.0   NaN                  0.00   \n",
       "\n",
       "       europe_sales  japan_sales  other_countries_sales  critic_score  \\\n",
       "659            0.53         0.00                   0.08           NaN   \n",
       "14244          0.00         0.03                   0.00           NaN   \n",
       "\n",
       "      user_score esrb_rating  \n",
       "659          NaN         NaN  \n",
       "14244        NaN         NaN  "
      ]
     },
     "metadata": {},
     "output_type": "display_data"
    },
    {
     "data": {
      "text/html": [
       "<div>\n",
       "<style scoped>\n",
       "    .dataframe tbody tr th:only-of-type {\n",
       "        vertical-align: middle;\n",
       "    }\n",
       "\n",
       "    .dataframe tbody tr th {\n",
       "        vertical-align: top;\n",
       "    }\n",
       "\n",
       "    .dataframe thead th {\n",
       "        text-align: right;\n",
       "    }\n",
       "</style>\n",
       "<table border=\"1\" class=\"dataframe\">\n",
       "  <thead>\n",
       "    <tr style=\"text-align: right;\">\n",
       "      <th></th>\n",
       "      <th>game_name</th>\n",
       "      <th>platform</th>\n",
       "      <th>year_of_release</th>\n",
       "      <th>genre</th>\n",
       "      <th>north_american_sales</th>\n",
       "      <th>europe_sales</th>\n",
       "      <th>japan_sales</th>\n",
       "      <th>other_countries_sales</th>\n",
       "      <th>critic_score</th>\n",
       "      <th>user_score</th>\n",
       "      <th>esrb_rating</th>\n",
       "    </tr>\n",
       "  </thead>\n",
       "  <tbody>\n",
       "    <tr>\n",
       "      <td>659</td>\n",
       "      <td>NaN</td>\n",
       "      <td>GEN</td>\n",
       "      <td>1993.0</td>\n",
       "      <td>NaN</td>\n",
       "      <td>1.78</td>\n",
       "      <td>0.53</td>\n",
       "      <td>0.00</td>\n",
       "      <td>0.08</td>\n",
       "      <td>NaN</td>\n",
       "      <td>NaN</td>\n",
       "      <td>NaN</td>\n",
       "    </tr>\n",
       "    <tr>\n",
       "      <td>7885</td>\n",
       "      <td>Shining Force II</td>\n",
       "      <td>GEN</td>\n",
       "      <td>1993.0</td>\n",
       "      <td>Strategy</td>\n",
       "      <td>0.00</td>\n",
       "      <td>0.00</td>\n",
       "      <td>0.19</td>\n",
       "      <td>0.00</td>\n",
       "      <td>NaN</td>\n",
       "      <td>NaN</td>\n",
       "      <td>NaN</td>\n",
       "    </tr>\n",
       "    <tr>\n",
       "      <td>8893</td>\n",
       "      <td>Super Street Fighter II</td>\n",
       "      <td>GEN</td>\n",
       "      <td>1993.0</td>\n",
       "      <td>Fighting</td>\n",
       "      <td>0.00</td>\n",
       "      <td>0.00</td>\n",
       "      <td>0.15</td>\n",
       "      <td>0.00</td>\n",
       "      <td>NaN</td>\n",
       "      <td>NaN</td>\n",
       "      <td>NaN</td>\n",
       "    </tr>\n",
       "    <tr>\n",
       "      <td>11986</td>\n",
       "      <td>Ecco: The Tides of Time</td>\n",
       "      <td>GEN</td>\n",
       "      <td>1993.0</td>\n",
       "      <td>Adventure</td>\n",
       "      <td>0.00</td>\n",
       "      <td>0.00</td>\n",
       "      <td>0.07</td>\n",
       "      <td>0.00</td>\n",
       "      <td>NaN</td>\n",
       "      <td>NaN</td>\n",
       "      <td>NaN</td>\n",
       "    </tr>\n",
       "    <tr>\n",
       "      <td>12098</td>\n",
       "      <td>Street Fighter II': Special Champion Edition (...</td>\n",
       "      <td>GEN</td>\n",
       "      <td>1993.0</td>\n",
       "      <td>Action</td>\n",
       "      <td>0.00</td>\n",
       "      <td>0.00</td>\n",
       "      <td>0.07</td>\n",
       "      <td>0.00</td>\n",
       "      <td>NaN</td>\n",
       "      <td>NaN</td>\n",
       "      <td>NaN</td>\n",
       "    </tr>\n",
       "    <tr>\n",
       "      <td>12264</td>\n",
       "      <td>Streets of Rage 3</td>\n",
       "      <td>GEN</td>\n",
       "      <td>1993.0</td>\n",
       "      <td>Action</td>\n",
       "      <td>0.00</td>\n",
       "      <td>0.00</td>\n",
       "      <td>0.07</td>\n",
       "      <td>0.00</td>\n",
       "      <td>NaN</td>\n",
       "      <td>NaN</td>\n",
       "      <td>NaN</td>\n",
       "    </tr>\n",
       "    <tr>\n",
       "      <td>12984</td>\n",
       "      <td>Dynamite Headdy</td>\n",
       "      <td>GEN</td>\n",
       "      <td>1993.0</td>\n",
       "      <td>Platform</td>\n",
       "      <td>0.00</td>\n",
       "      <td>0.00</td>\n",
       "      <td>0.05</td>\n",
       "      <td>0.00</td>\n",
       "      <td>NaN</td>\n",
       "      <td>NaN</td>\n",
       "      <td>NaN</td>\n",
       "    </tr>\n",
       "    <tr>\n",
       "      <td>13343</td>\n",
       "      <td>Beyond Oasis</td>\n",
       "      <td>GEN</td>\n",
       "      <td>1993.0</td>\n",
       "      <td>Role-Playing</td>\n",
       "      <td>0.00</td>\n",
       "      <td>0.00</td>\n",
       "      <td>0.05</td>\n",
       "      <td>0.00</td>\n",
       "      <td>NaN</td>\n",
       "      <td>NaN</td>\n",
       "      <td>NaN</td>\n",
       "    </tr>\n",
       "    <tr>\n",
       "      <td>14244</td>\n",
       "      <td>NaN</td>\n",
       "      <td>GEN</td>\n",
       "      <td>1993.0</td>\n",
       "      <td>NaN</td>\n",
       "      <td>0.00</td>\n",
       "      <td>0.00</td>\n",
       "      <td>0.03</td>\n",
       "      <td>0.00</td>\n",
       "      <td>NaN</td>\n",
       "      <td>NaN</td>\n",
       "      <td>NaN</td>\n",
       "    </tr>\n",
       "  </tbody>\n",
       "</table>\n",
       "</div>"
      ],
      "text/plain": [
       "                                               game_name platform  \\\n",
       "659                                                  NaN      GEN   \n",
       "7885                                    Shining Force II      GEN   \n",
       "8893                             Super Street Fighter II      GEN   \n",
       "11986                            Ecco: The Tides of Time      GEN   \n",
       "12098  Street Fighter II': Special Champion Edition (...      GEN   \n",
       "12264                                  Streets of Rage 3      GEN   \n",
       "12984                                    Dynamite Headdy      GEN   \n",
       "13343                                       Beyond Oasis      GEN   \n",
       "14244                                                NaN      GEN   \n",
       "\n",
       "       year_of_release         genre  north_american_sales  europe_sales  \\\n",
       "659             1993.0           NaN                  1.78          0.53   \n",
       "7885            1993.0      Strategy                  0.00          0.00   \n",
       "8893            1993.0      Fighting                  0.00          0.00   \n",
       "11986           1993.0     Adventure                  0.00          0.00   \n",
       "12098           1993.0        Action                  0.00          0.00   \n",
       "12264           1993.0        Action                  0.00          0.00   \n",
       "12984           1993.0      Platform                  0.00          0.00   \n",
       "13343           1993.0  Role-Playing                  0.00          0.00   \n",
       "14244           1993.0           NaN                  0.00          0.00   \n",
       "\n",
       "       japan_sales  other_countries_sales  critic_score user_score esrb_rating  \n",
       "659           0.00                   0.08           NaN        NaN         NaN  \n",
       "7885          0.19                   0.00           NaN        NaN         NaN  \n",
       "8893          0.15                   0.00           NaN        NaN         NaN  \n",
       "11986         0.07                   0.00           NaN        NaN         NaN  \n",
       "12098         0.07                   0.00           NaN        NaN         NaN  \n",
       "12264         0.07                   0.00           NaN        NaN         NaN  \n",
       "12984         0.05                   0.00           NaN        NaN         NaN  \n",
       "13343         0.05                   0.00           NaN        NaN         NaN  \n",
       "14244         0.03                   0.00           NaN        NaN         NaN  "
      ]
     },
     "metadata": {},
     "output_type": "display_data"
    },
    {
     "data": {
      "text/plain": [
       "0"
      ]
     },
     "metadata": {},
     "output_type": "display_data"
    },
    {
     "data": {
      "text/plain": [
       "0"
      ]
     },
     "metadata": {},
     "output_type": "display_data"
    }
   ],
   "source": [
    "# display number of missing values in the column\n",
    "display(games['game_name'].isnull().sum())\n",
    "\n",
    "# display rows with missing values\n",
    "display(games[games['game_name'].isnull()])\n",
    "\n",
    "# display the number of unique values of 'game_name' where 'year_of_release' is 1993\n",
    "display(games[(games['year_of_release'] == 1993.0) & (games['platform'] == 'GEN')])\n",
    "\n",
    "# drop the missing value in column 'game_name'\n",
    "games.dropna(subset=['game_name'], inplace = True)\n",
    "\n",
    "# display number of missing values in the column\n",
    "display(games['game_name'].isnull().sum())\n",
    "\n",
    "# display number of missing values in the column\n",
    "display(games['genre'].isnull().sum())"
   ]
  },
  {
   "cell_type": "markdown",
   "metadata": {},
   "source": [
    "**Conclusion**\n",
    "\n",
    "The missing values in `game_name` could be as result of error of omission when inputting the data. Since the missing values in the column is less than 1%, we begin by checking the number of the missing values. We discovered that just two values are without a game name. So we decided to investigate the rows containing the missing values. To our surprise, the two rows are also missing values on 4 other columns (`genre`, `critic_score`, `user_score`, and `esrb_rating`) but have the same year of release (1993). We further investigate and discovered that there are 7 other games with the same year of release and platform. With this, it is almost impossible to fill in these missing values, so we decided to drop them from our dataframe.\n",
    "\n",
    "Since both `game_name` and `genre`columns have the same percentage of missing values, we decided to investigate if there is possibility that the missing values in both columns are on the same rows. Unsurprisingly, the missing values for both columns are on the same rows.\n",
    "\n",
    "The missing values in `genre` could be as result of not having access to the information during collection of data.\n",
    "\n",
    "\n",
    "[<a href=\"#Table-of-contents\">Back to top</a>]"
   ]
  },
  {
   "cell_type": "markdown",
   "metadata": {},
   "source": [
    "**year_of_release** "
   ]
  },
  {
   "cell_type": "code",
   "execution_count": 6,
   "metadata": {},
   "outputs": [
    {
     "data": {
      "text/plain": [
       "269"
      ]
     },
     "metadata": {},
     "output_type": "display_data"
    },
    {
     "data": {
      "text/plain": [
       "146"
      ]
     },
     "metadata": {},
     "output_type": "display_data"
    },
    {
     "data": {
      "text/plain": [
       "0"
      ]
     },
     "metadata": {},
     "output_type": "display_data"
    }
   ],
   "source": [
    "# display number of missing values in the column\n",
    "display(games['year_of_release'].isnull().sum())\n",
    "\n",
    "# fill in missing values with median values\n",
    "games['year_of_release'] = games['year_of_release'].fillna(\n",
    "    games.groupby('game_name')['year_of_release'].transform('mean'))\n",
    "\n",
    "# display number of missing values in the column\n",
    "display(games['year_of_release'].isnull().sum())\n",
    "\n",
    "# fill in missing values with median values\n",
    "games['year_of_release'] = games.groupby('platform')['year_of_release'].apply(\n",
    "    lambda x: x.fillna(x.mode().iloc[0]))\n",
    "\n",
    "# display number of missing values in the column\n",
    "display(games['year_of_release'].isnull().sum())"
   ]
  },
  {
   "cell_type": "markdown",
   "metadata": {},
   "source": [
    "**Conclusion**\n",
    "\n",
    "There are 269 games missing the year of release in our dataset. This missing values could be as a result of the data engineer assuming that games of the name have the same release year and do not need to be input repeatedly to the data. So we decided to fill the missing values with the average year of release of games with the same name. After doing this, we still have 146 missing values left in the column. Then we decided to fill this with the common year of release grouped by the games' platform.\n",
    "\n",
    "[<a href=\"#Table-of-contents\">Back to top</a>]"
   ]
  },
  {
   "cell_type": "markdown",
   "metadata": {},
   "source": [
    "**critic_score**"
   ]
  },
  {
   "cell_type": "code",
   "execution_count": 7,
   "metadata": {},
   "outputs": [
    {
     "data": {
      "text/plain": [
       "8576"
      ]
     },
     "metadata": {},
     "output_type": "display_data"
    },
    {
     "data": {
      "text/plain": [
       "0"
      ]
     },
     "metadata": {},
     "output_type": "display_data"
    }
   ],
   "source": [
    "# display number of missing values in the column\n",
    "display(games['critic_score'].isnull().sum())\n",
    "\n",
    "# fill in missing values with 'unknown'\n",
    "games['critic_score'] = games['critic_score'].fillna(value='unknown')\n",
    "\n",
    "# display number of missing values in the column\n",
    "display(games['critic_score'].isnull().sum())"
   ]
  },
  {
   "cell_type": "markdown",
   "metadata": {},
   "source": [
    "**Conclusion**\n",
    "\n",
    "There are 8576 games without critic score. This missing values could be as a result of not having access to the information during data collection. We decided to fill this missing values with 'unknown' as it will be almost impossible to determine the critic score of a game based on other variables we have. \n",
    "\n",
    "[<a href=\"#Table-of-contents\">Back to top</a>]"
   ]
  },
  {
   "cell_type": "markdown",
   "metadata": {},
   "source": [
    "**user_score**"
   ]
  },
  {
   "cell_type": "code",
   "execution_count": 8,
   "metadata": {},
   "outputs": [
    {
     "data": {
      "text/plain": [
       "6699"
      ]
     },
     "metadata": {},
     "output_type": "display_data"
    },
    {
     "data": {
      "text/plain": [
       "array(['8', nan, '8.3', '8.5', '6.6', '8.4', '8.6', '7.7', '6.3', '7.4',\n",
       "       '8.2', '9', '7.9', '8.1', '8.7', '7.1', '3.4', '5.3', '4.8', '3.2',\n",
       "       '8.9', '6.4', '7.8', '7.5', '2.6', '7.2', '9.2', '7', '7.3', '4.3',\n",
       "       '7.6', '5.7', '5', '9.1', '6.5', 'tbd', '8.8', '6.9', '9.4', '6.8',\n",
       "       '6.1', '6.7', '5.4', '4', '4.9', '4.5', '9.3', '6.2', '4.2', '6',\n",
       "       '3.7', '4.1', '5.8', '5.6', '5.5', '4.4', '4.6', '5.9', '3.9',\n",
       "       '3.1', '2.9', '5.2', '3.3', '4.7', '5.1', '3.5', '2.5', '1.9', '3',\n",
       "       '2.7', '2.2', '2', '9.5', '2.1', '3.6', '2.8', '1.8', '3.8', '0',\n",
       "       '1.6', '9.6', '2.4', '1.7', '1.1', '0.3', '1.5', '0.7', '1.2',\n",
       "       '2.3', '0.5', '1.3', '0.2', '0.6', '1.4', '0.9', '1', '9.7'],\n",
       "      dtype=object)"
      ]
     },
     "metadata": {},
     "output_type": "display_data"
    },
    {
     "data": {
      "text/plain": [
       "2424"
      ]
     },
     "metadata": {},
     "output_type": "display_data"
    },
    {
     "data": {
      "text/plain": [
       "0"
      ]
     },
     "metadata": {},
     "output_type": "display_data"
    }
   ],
   "source": [
    "# display number of missing values in the column\n",
    "display(games['user_score'].isnull().sum())\n",
    "\n",
    "# display the unique values in the column\n",
    "display(games['user_score'].unique())\n",
    "\n",
    "# fill in missing values with 'unknown'\n",
    "games['user_score'] = games['user_score'].fillna(value='unknown')\n",
    "\n",
    "# display the number of 'tbd' in the column \n",
    "display(len(games[games['user_score'] == 'tbd']))\n",
    "\n",
    "# display number of missing values in the column\n",
    "display(games['user_score'].isnull().sum())"
   ]
  },
  {
   "cell_type": "markdown",
   "metadata": {},
   "source": [
    "**Conclusion**\n",
    "\n",
    "There are 6699 missing values in this column. It might be either there was no access to the information during data collection or there was no reliable source to gather the information. We noticed there is another unique value `tbd`, which means 'to be determined' in the column. These `tbd` values in the column might be that there is possibility of getting the information. \n",
    "\n",
    "We decided to fill the missing values with `unknown` since it is almost impossible to determine the user score. We assumed that it is the intension of the data engineer to fill in the `tbd` values whenever the information is accessible, so we decided to leave the `tbd` values as it is. \n",
    "\n",
    "\n",
    "[<a href=\"#Table-of-contents\">Back to top</a>]"
   ]
  },
  {
   "cell_type": "markdown",
   "metadata": {},
   "source": [
    "**esrb_rating**"
   ]
  },
  {
   "cell_type": "code",
   "execution_count": 9,
   "metadata": {},
   "outputs": [
    {
     "data": {
      "text/plain": [
       "6764"
      ]
     },
     "metadata": {},
     "output_type": "display_data"
    },
    {
     "data": {
      "text/plain": [
       "0"
      ]
     },
     "metadata": {},
     "output_type": "display_data"
    }
   ],
   "source": [
    "# display number of missing values in the column\n",
    "display(games['esrb_rating'].isnull().sum())\n",
    "\n",
    "# fill in missing values with 'undefined'\n",
    "games['esrb_rating'] = games['esrb_rating'].fillna(value='undefined')\n",
    "\n",
    "# display number of missing values in the column\n",
    "display(games['esrb_rating'].isnull().sum())"
   ]
  },
  {
   "cell_type": "markdown",
   "metadata": {},
   "source": [
    "**Conclusion**\n",
    "\n",
    "We are missing 6764 values in this column. These missing values could be as a result of not having access to the information or maybe the set of games with this missing values are without ESRB rating.   \n",
    "\n",
    "\n",
    "[<a href=\"#Table-of-contents\">Back to top</a>]"
   ]
  },
  {
   "cell_type": "markdown",
   "metadata": {},
   "source": [
    "#### Check for duplicates"
   ]
  },
  {
   "cell_type": "code",
   "execution_count": 10,
   "metadata": {},
   "outputs": [
    {
     "data": {
      "text/plain": [
       "0"
      ]
     },
     "metadata": {},
     "output_type": "display_data"
    }
   ],
   "source": [
    "# check for duplicates in the dataframes\n",
    "display(games.duplicated().sum())"
   ]
  },
  {
   "cell_type": "markdown",
   "metadata": {},
   "source": [
    "**Conclusion**\n",
    "We discovered that there is no duplicate in any of our dataframes.\n",
    "\n",
    "[<a href=\"#Table-of-contents\">Back to top</a>]"
   ]
  },
  {
   "cell_type": "markdown",
   "metadata": {},
   "source": [
    "#### Convert the data to the required types"
   ]
  },
  {
   "cell_type": "code",
   "execution_count": 11,
   "metadata": {},
   "outputs": [
    {
     "name": "stdout",
     "output_type": "stream",
     "text": [
      "<class 'pandas.core.frame.DataFrame'>\n",
      "Int64Index: 16713 entries, 0 to 16714\n",
      "Data columns (total 11 columns):\n",
      "game_name                16713 non-null object\n",
      "platform                 16713 non-null object\n",
      "year_of_release          16713 non-null float64\n",
      "genre                    16713 non-null object\n",
      "north_american_sales     16713 non-null float64\n",
      "europe_sales             16713 non-null float64\n",
      "japan_sales              16713 non-null float64\n",
      "other_countries_sales    16713 non-null float64\n",
      "critic_score             16713 non-null object\n",
      "user_score               16713 non-null object\n",
      "esrb_rating              16713 non-null object\n",
      "dtypes: float64(5), object(6)\n",
      "memory usage: 1.5+ MB\n"
     ]
    },
    {
     "data": {
      "text/plain": [
       "None"
      ]
     },
     "metadata": {},
     "output_type": "display_data"
    },
    {
     "data": {
      "text/plain": [
       "dtype('int64')"
      ]
     },
     "metadata": {},
     "output_type": "display_data"
    }
   ],
   "source": [
    "display(games.info())\n",
    "\n",
    "# >>> YEAR_OF_RELEASE <<<\n",
    "\n",
    "# convert the data types of values in the column to datetime data type\n",
    "games['year_of_release'] = pd.to_datetime(games['year_of_release'], format='%Y')\n",
    "\n",
    "# extract the year from the date format and display data type\n",
    "games['year_of_release'] = pd.DatetimeIndex(games['year_of_release']).year\n",
    "display(games['year_of_release'].dtype)"
   ]
  },
  {
   "cell_type": "markdown",
   "metadata": {},
   "source": [
    "**Conclusion**\n",
    "\n",
    "We decided to change the data type of column `year_of_release` from floating point to datetime format. \n",
    "\n",
    "[<a href=\"#Table-of-contents\">Back to top</a>]"
   ]
  },
  {
   "cell_type": "markdown",
   "metadata": {},
   "source": [
    "#### Calculate the total sales"
   ]
  },
  {
   "cell_type": "code",
   "execution_count": 12,
   "metadata": {},
   "outputs": [
    {
     "data": {
      "text/html": [
       "<div>\n",
       "<style scoped>\n",
       "    .dataframe tbody tr th:only-of-type {\n",
       "        vertical-align: middle;\n",
       "    }\n",
       "\n",
       "    .dataframe tbody tr th {\n",
       "        vertical-align: top;\n",
       "    }\n",
       "\n",
       "    .dataframe thead th {\n",
       "        text-align: right;\n",
       "    }\n",
       "</style>\n",
       "<table border=\"1\" class=\"dataframe\">\n",
       "  <thead>\n",
       "    <tr style=\"text-align: right;\">\n",
       "      <th></th>\n",
       "      <th>game_name</th>\n",
       "      <th>platform</th>\n",
       "      <th>year_of_release</th>\n",
       "      <th>genre</th>\n",
       "      <th>north_american_sales</th>\n",
       "      <th>europe_sales</th>\n",
       "      <th>japan_sales</th>\n",
       "      <th>other_countries_sales</th>\n",
       "      <th>critic_score</th>\n",
       "      <th>user_score</th>\n",
       "      <th>esrb_rating</th>\n",
       "      <th>total_sales</th>\n",
       "    </tr>\n",
       "  </thead>\n",
       "  <tbody>\n",
       "    <tr>\n",
       "      <td>0</td>\n",
       "      <td>Wii Sports</td>\n",
       "      <td>Wii</td>\n",
       "      <td>2006</td>\n",
       "      <td>Sports</td>\n",
       "      <td>41.36</td>\n",
       "      <td>28.96</td>\n",
       "      <td>3.77</td>\n",
       "      <td>8.45</td>\n",
       "      <td>76</td>\n",
       "      <td>8</td>\n",
       "      <td>E</td>\n",
       "      <td>82.54</td>\n",
       "    </tr>\n",
       "    <tr>\n",
       "      <td>1</td>\n",
       "      <td>Super Mario Bros.</td>\n",
       "      <td>NES</td>\n",
       "      <td>1985</td>\n",
       "      <td>Platform</td>\n",
       "      <td>29.08</td>\n",
       "      <td>3.58</td>\n",
       "      <td>6.81</td>\n",
       "      <td>0.77</td>\n",
       "      <td>unknown</td>\n",
       "      <td>unknown</td>\n",
       "      <td>undefined</td>\n",
       "      <td>40.24</td>\n",
       "    </tr>\n",
       "    <tr>\n",
       "      <td>2</td>\n",
       "      <td>Mario Kart Wii</td>\n",
       "      <td>Wii</td>\n",
       "      <td>2008</td>\n",
       "      <td>Racing</td>\n",
       "      <td>15.68</td>\n",
       "      <td>12.76</td>\n",
       "      <td>3.79</td>\n",
       "      <td>3.29</td>\n",
       "      <td>82</td>\n",
       "      <td>8.3</td>\n",
       "      <td>E</td>\n",
       "      <td>35.52</td>\n",
       "    </tr>\n",
       "    <tr>\n",
       "      <td>3</td>\n",
       "      <td>Wii Sports Resort</td>\n",
       "      <td>Wii</td>\n",
       "      <td>2009</td>\n",
       "      <td>Sports</td>\n",
       "      <td>15.61</td>\n",
       "      <td>10.93</td>\n",
       "      <td>3.28</td>\n",
       "      <td>2.95</td>\n",
       "      <td>80</td>\n",
       "      <td>8</td>\n",
       "      <td>E</td>\n",
       "      <td>32.77</td>\n",
       "    </tr>\n",
       "    <tr>\n",
       "      <td>4</td>\n",
       "      <td>Pokemon Red/Pokemon Blue</td>\n",
       "      <td>GB</td>\n",
       "      <td>1996</td>\n",
       "      <td>Role-Playing</td>\n",
       "      <td>11.27</td>\n",
       "      <td>8.89</td>\n",
       "      <td>10.22</td>\n",
       "      <td>1.00</td>\n",
       "      <td>unknown</td>\n",
       "      <td>unknown</td>\n",
       "      <td>undefined</td>\n",
       "      <td>31.38</td>\n",
       "    </tr>\n",
       "  </tbody>\n",
       "</table>\n",
       "</div>"
      ],
      "text/plain": [
       "                  game_name platform  year_of_release         genre  \\\n",
       "0                Wii Sports      Wii             2006        Sports   \n",
       "1         Super Mario Bros.      NES             1985      Platform   \n",
       "2            Mario Kart Wii      Wii             2008        Racing   \n",
       "3         Wii Sports Resort      Wii             2009        Sports   \n",
       "4  Pokemon Red/Pokemon Blue       GB             1996  Role-Playing   \n",
       "\n",
       "   north_american_sales  europe_sales  japan_sales  other_countries_sales  \\\n",
       "0                 41.36         28.96         3.77                   8.45   \n",
       "1                 29.08          3.58         6.81                   0.77   \n",
       "2                 15.68         12.76         3.79                   3.29   \n",
       "3                 15.61         10.93         3.28                   2.95   \n",
       "4                 11.27          8.89        10.22                   1.00   \n",
       "\n",
       "  critic_score user_score esrb_rating  total_sales  \n",
       "0           76          8           E        82.54  \n",
       "1      unknown    unknown   undefined        40.24  \n",
       "2           82        8.3           E        35.52  \n",
       "3           80          8           E        32.77  \n",
       "4      unknown    unknown   undefined        31.38  "
      ]
     },
     "metadata": {},
     "output_type": "display_data"
    }
   ],
   "source": [
    "# add all columns of sales to get the total sales\n",
    "games['total_sales'] = games['north_american_sales'] + games['europe_sales'] + games['japan_sales'] + games['other_countries_sales']\n",
    "\n",
    "# display the first five rows\n",
    "display(games.head())"
   ]
  },
  {
   "cell_type": "markdown",
   "metadata": {},
   "source": [
    "**Conclusion**\n",
    "\n",
    "We decided to get the total sales of each game in all regions by adding column `north_american_sales`, `europe_sales`, `japan_sales`, and `other_countries_sales` together, saved the result in a new column `total_sales`.\n",
    "\n",
    "[<a href=\"#Table-of-contents\">Back to top</a>]"
   ]
  },
  {
   "cell_type": "markdown",
   "metadata": {},
   "source": [
    "### Step 3. Analyze the data\n",
    "\n",
    "#### Number of games released in different years"
   ]
  },
  {
   "cell_type": "code",
   "execution_count": 13,
   "metadata": {},
   "outputs": [
    {
     "data": {
      "text/html": [
       "<div>\n",
       "<style scoped>\n",
       "    .dataframe tbody tr th:only-of-type {\n",
       "        vertical-align: middle;\n",
       "    }\n",
       "\n",
       "    .dataframe tbody tr th {\n",
       "        vertical-align: top;\n",
       "    }\n",
       "\n",
       "    .dataframe thead th {\n",
       "        text-align: right;\n",
       "    }\n",
       "</style>\n",
       "<table border=\"1\" class=\"dataframe\">\n",
       "  <thead>\n",
       "    <tr style=\"text-align: right;\">\n",
       "      <th></th>\n",
       "      <th>game_name</th>\n",
       "    </tr>\n",
       "    <tr>\n",
       "      <th>year_of_release</th>\n",
       "      <th></th>\n",
       "    </tr>\n",
       "  </thead>\n",
       "  <tbody>\n",
       "    <tr>\n",
       "      <td>1980</td>\n",
       "      <td>9</td>\n",
       "    </tr>\n",
       "    <tr>\n",
       "      <td>1981</td>\n",
       "      <td>62</td>\n",
       "    </tr>\n",
       "    <tr>\n",
       "      <td>1982</td>\n",
       "      <td>36</td>\n",
       "    </tr>\n",
       "    <tr>\n",
       "      <td>1983</td>\n",
       "      <td>17</td>\n",
       "    </tr>\n",
       "    <tr>\n",
       "      <td>1984</td>\n",
       "      <td>14</td>\n",
       "    </tr>\n",
       "  </tbody>\n",
       "</table>\n",
       "</div>"
      ],
      "text/plain": [
       "                 game_name\n",
       "year_of_release           \n",
       "1980                     9\n",
       "1981                    62\n",
       "1982                    36\n",
       "1983                    17\n",
       "1984                    14"
      ]
     },
     "metadata": {},
     "output_type": "display_data"
    },
    {
     "data": {
      "image/png": "[encoded data removed]",
      "text/plain": [
       "<Figure size 864x504 with 1 Axes>"
      ]
     },
     "metadata": {
      "needs_background": "light"
     },
     "output_type": "display_data"
    }
   ],
   "source": [
    "# create a pivot table for the number of games per year\n",
    "games_per_year = games.pivot_table(index='year_of_release', values='game_name', aggfunc='count')\n",
    "\n",
    "# display the pivot table\n",
    "display(games_per_year.head())\n",
    "\n",
    "# create bar chart diplaying the number of games in different years\n",
    "games_per_year.plot.bar(title='Number of Games Released Per Year',figsize=(12,7), grid=True)\n",
    "plt.ylabel('Number of games')\n",
    "plt.xlabel('Year of release')\n",
    "plt.show()"
   ]
  },
  {
   "cell_type": "markdown",
   "metadata": {},
   "source": [
    "**Conclusion**\n",
    "\n",
    "We created a pivot table to calculate the number of games that was released in different years by using the `.pivot_table` method, passing column `year_of_release` as the index, column `game_name` as values, and `sum` as the aggfunc. For readability and understanding, we decided to plot a bar chart to visualize our result.\n",
    "\n",
    "From the bar chart, more games were released during the third century of our dataset (2000 to 2009), and very few were released during the first century (1980 to 1989). There was a rapid fall of the number of games released from 2010 to 2013.  \n",
    "Year 2008 and 2009 have the highest number of games released, with over 1400 games released in each year. We can say that 1991 is the year of rise of the games as it is the start of inclination in the number of games released. Previous years have a relatively low number of games released apart from 1981 and 1982.\n",
    "\n",
    "[<a href=\"#Table-of-contents\">Back to top</a>]"
   ]
  },
  {
   "cell_type": "markdown",
   "metadata": {},
   "source": [
    "#### How sales varied from platform to platform"
   ]
  },
  {
   "cell_type": "code",
   "execution_count": 14,
   "metadata": {},
   "outputs": [
    {
     "data": {
      "image/png": "[encoded data removed]",
      "text/plain": [
       "<Figure size 864x504 with 1 Axes>"
      ]
     },
     "metadata": {
      "needs_background": "light"
     },
     "output_type": "display_data"
    }
   ],
   "source": [
    "# create a pivot table for the number of games per year\n",
    "sales_platform = games.pivot_table(\n",
    "    index='platform', values='total_sales', aggfunc='sum').sort_values(\n",
    "    by='total_sales', ascending=False)\n",
    "\n",
    "\n",
    "# create bar chart diplaying the number of games in different years\n",
    "sales_platform.plot.bar(title='Variation of Platforms By Sales',figsize=(12,7), grid=True)\n",
    "plt.ylabel('Total Sales in USD million')\n",
    "plt.xlabel('Platforms')\n",
    "plt.show()"
   ]
  },
  {
   "cell_type": "markdown",
   "metadata": {},
   "source": [
    "**Conclusion** \n",
    "\n",
    "To check how sales varied from platform to platform, we decided to create a pivot table `sales_platform`, by grouping the global sales by platforms using the `.pivot_table` method. We then plotted a bar chart of this pivot table with the title `Variation of Platforms By Sales` to visualize our result.\n",
    "\n",
    "There are four platforms that made less than a million dollar sales globally. Theses platforms are TG16, 3DO, GG, and PCFX. Only six platforms made over 600 millions dollar sales globally (PS2, X360, PS3, Wii, D5, PS), and the rest making less than 400 millions dollar sales. The platform with the highest sales globally is PS2, making over 1200 millions dollar sales.\n",
    "\n",
    "\n",
    "[<a href=\"#Table-of-contents\">Back to top</a>] "
   ]
  },
  {
   "cell_type": "code",
   "execution_count": 15,
   "metadata": {},
   "outputs": [
    {
     "data": {
      "text/plain": [
       "'The top 9 platform with highest total sales are:'"
      ]
     },
     "metadata": {},
     "output_type": "display_data"
    },
    {
     "data": {
      "text/plain": [
       "0     PS2\n",
       "1    X360\n",
       "2     PS3\n",
       "3     Wii\n",
       "4      DS\n",
       "5      PS\n",
       "6     GBA\n",
       "7     PS4\n",
       "8     PSP\n",
       "Name: platform, dtype: object"
      ]
     },
     "metadata": {},
     "output_type": "display_data"
    },
    {
     "data": {
      "text/html": [
       "<div>\n",
       "<style scoped>\n",
       "    .dataframe tbody tr th:only-of-type {\n",
       "        vertical-align: middle;\n",
       "    }\n",
       "\n",
       "    .dataframe tbody tr th {\n",
       "        vertical-align: top;\n",
       "    }\n",
       "\n",
       "    .dataframe thead th {\n",
       "        text-align: right;\n",
       "    }\n",
       "</style>\n",
       "<table border=\"1\" class=\"dataframe\">\n",
       "  <thead>\n",
       "    <tr style=\"text-align: right;\">\n",
       "      <th></th>\n",
       "      <th>game_name</th>\n",
       "      <th>platform</th>\n",
       "      <th>year_of_release</th>\n",
       "      <th>genre</th>\n",
       "      <th>north_american_sales</th>\n",
       "      <th>europe_sales</th>\n",
       "      <th>japan_sales</th>\n",
       "      <th>other_countries_sales</th>\n",
       "      <th>critic_score</th>\n",
       "      <th>user_score</th>\n",
       "      <th>esrb_rating</th>\n",
       "      <th>total_sales</th>\n",
       "    </tr>\n",
       "  </thead>\n",
       "  <tbody>\n",
       "    <tr>\n",
       "      <td>0</td>\n",
       "      <td>Wii Sports</td>\n",
       "      <td>Wii</td>\n",
       "      <td>2006</td>\n",
       "      <td>Sports</td>\n",
       "      <td>41.36</td>\n",
       "      <td>28.96</td>\n",
       "      <td>3.77</td>\n",
       "      <td>8.45</td>\n",
       "      <td>76</td>\n",
       "      <td>8</td>\n",
       "      <td>E</td>\n",
       "      <td>82.54</td>\n",
       "    </tr>\n",
       "    <tr>\n",
       "      <td>2</td>\n",
       "      <td>Mario Kart Wii</td>\n",
       "      <td>Wii</td>\n",
       "      <td>2008</td>\n",
       "      <td>Racing</td>\n",
       "      <td>15.68</td>\n",
       "      <td>12.76</td>\n",
       "      <td>3.79</td>\n",
       "      <td>3.29</td>\n",
       "      <td>82</td>\n",
       "      <td>8.3</td>\n",
       "      <td>E</td>\n",
       "      <td>35.52</td>\n",
       "    </tr>\n",
       "    <tr>\n",
       "      <td>3</td>\n",
       "      <td>Wii Sports Resort</td>\n",
       "      <td>Wii</td>\n",
       "      <td>2009</td>\n",
       "      <td>Sports</td>\n",
       "      <td>15.61</td>\n",
       "      <td>10.93</td>\n",
       "      <td>3.28</td>\n",
       "      <td>2.95</td>\n",
       "      <td>80</td>\n",
       "      <td>8</td>\n",
       "      <td>E</td>\n",
       "      <td>32.77</td>\n",
       "    </tr>\n",
       "    <tr>\n",
       "      <td>6</td>\n",
       "      <td>New Super Mario Bros.</td>\n",
       "      <td>DS</td>\n",
       "      <td>2006</td>\n",
       "      <td>Platform</td>\n",
       "      <td>11.28</td>\n",
       "      <td>9.14</td>\n",
       "      <td>6.50</td>\n",
       "      <td>2.88</td>\n",
       "      <td>89</td>\n",
       "      <td>8.5</td>\n",
       "      <td>E</td>\n",
       "      <td>29.80</td>\n",
       "    </tr>\n",
       "    <tr>\n",
       "      <td>7</td>\n",
       "      <td>Wii Play</td>\n",
       "      <td>Wii</td>\n",
       "      <td>2006</td>\n",
       "      <td>Misc</td>\n",
       "      <td>13.96</td>\n",
       "      <td>9.18</td>\n",
       "      <td>2.93</td>\n",
       "      <td>2.84</td>\n",
       "      <td>58</td>\n",
       "      <td>6.6</td>\n",
       "      <td>E</td>\n",
       "      <td>28.91</td>\n",
       "    </tr>\n",
       "  </tbody>\n",
       "</table>\n",
       "</div>"
      ],
      "text/plain": [
       "               game_name platform  year_of_release     genre  \\\n",
       "0             Wii Sports      Wii             2006    Sports   \n",
       "2         Mario Kart Wii      Wii             2008    Racing   \n",
       "3      Wii Sports Resort      Wii             2009    Sports   \n",
       "6  New Super Mario Bros.       DS             2006  Platform   \n",
       "7               Wii Play      Wii             2006      Misc   \n",
       "\n",
       "   north_american_sales  europe_sales  japan_sales  other_countries_sales  \\\n",
       "0                 41.36         28.96         3.77                   8.45   \n",
       "2                 15.68         12.76         3.79                   3.29   \n",
       "3                 15.61         10.93         3.28                   2.95   \n",
       "6                 11.28          9.14         6.50                   2.88   \n",
       "7                 13.96          9.18         2.93                   2.84   \n",
       "\n",
       "  critic_score user_score esrb_rating  total_sales  \n",
       "0           76          8           E        82.54  \n",
       "2           82        8.3           E        35.52  \n",
       "3           80          8           E        32.77  \n",
       "6           89        8.5           E        29.80  \n",
       "7           58        6.6           E        28.91  "
      ]
     },
     "metadata": {},
     "output_type": "display_data"
    },
    {
     "data": {
      "text/html": [
       "<div>\n",
       "<style scoped>\n",
       "    .dataframe tbody tr th:only-of-type {\n",
       "        vertical-align: middle;\n",
       "    }\n",
       "\n",
       "    .dataframe tbody tr th {\n",
       "        vertical-align: top;\n",
       "    }\n",
       "\n",
       "    .dataframe thead th {\n",
       "        text-align: right;\n",
       "    }\n",
       "</style>\n",
       "<table border=\"1\" class=\"dataframe\">\n",
       "  <thead>\n",
       "    <tr style=\"text-align: right;\">\n",
       "      <th>platform</th>\n",
       "      <th>DS</th>\n",
       "      <th>GBA</th>\n",
       "      <th>PS</th>\n",
       "      <th>PS2</th>\n",
       "      <th>PS3</th>\n",
       "      <th>PS4</th>\n",
       "      <th>PSP</th>\n",
       "      <th>Wii</th>\n",
       "      <th>X360</th>\n",
       "    </tr>\n",
       "    <tr>\n",
       "      <th>year_of_release</th>\n",
       "      <th></th>\n",
       "      <th></th>\n",
       "      <th></th>\n",
       "      <th></th>\n",
       "      <th></th>\n",
       "      <th></th>\n",
       "      <th></th>\n",
       "      <th></th>\n",
       "      <th></th>\n",
       "    </tr>\n",
       "  </thead>\n",
       "  <tbody>\n",
       "    <tr>\n",
       "      <td>1985</td>\n",
       "      <td>0.02</td>\n",
       "      <td>0.0</td>\n",
       "      <td>0.00</td>\n",
       "      <td>0.0</td>\n",
       "      <td>0.0</td>\n",
       "      <td>0.0</td>\n",
       "      <td>0.0</td>\n",
       "      <td>0.0</td>\n",
       "      <td>0.0</td>\n",
       "    </tr>\n",
       "    <tr>\n",
       "      <td>1994</td>\n",
       "      <td>0.00</td>\n",
       "      <td>0.0</td>\n",
       "      <td>6.03</td>\n",
       "      <td>0.0</td>\n",
       "      <td>0.0</td>\n",
       "      <td>0.0</td>\n",
       "      <td>0.0</td>\n",
       "      <td>0.0</td>\n",
       "      <td>0.0</td>\n",
       "    </tr>\n",
       "    <tr>\n",
       "      <td>1995</td>\n",
       "      <td>0.00</td>\n",
       "      <td>0.0</td>\n",
       "      <td>35.96</td>\n",
       "      <td>0.0</td>\n",
       "      <td>0.0</td>\n",
       "      <td>0.0</td>\n",
       "      <td>0.0</td>\n",
       "      <td>0.0</td>\n",
       "      <td>0.0</td>\n",
       "    </tr>\n",
       "    <tr>\n",
       "      <td>1996</td>\n",
       "      <td>0.00</td>\n",
       "      <td>0.0</td>\n",
       "      <td>94.70</td>\n",
       "      <td>0.0</td>\n",
       "      <td>0.0</td>\n",
       "      <td>0.0</td>\n",
       "      <td>0.0</td>\n",
       "      <td>0.0</td>\n",
       "      <td>0.0</td>\n",
       "    </tr>\n",
       "    <tr>\n",
       "      <td>1997</td>\n",
       "      <td>0.00</td>\n",
       "      <td>0.0</td>\n",
       "      <td>136.17</td>\n",
       "      <td>0.0</td>\n",
       "      <td>0.0</td>\n",
       "      <td>0.0</td>\n",
       "      <td>0.0</td>\n",
       "      <td>0.0</td>\n",
       "      <td>0.0</td>\n",
       "    </tr>\n",
       "  </tbody>\n",
       "</table>\n",
       "</div>"
      ],
      "text/plain": [
       "platform           DS  GBA      PS  PS2  PS3  PS4  PSP  Wii  X360\n",
       "year_of_release                                                  \n",
       "1985             0.02  0.0    0.00  0.0  0.0  0.0  0.0  0.0   0.0\n",
       "1994             0.00  0.0    6.03  0.0  0.0  0.0  0.0  0.0   0.0\n",
       "1995             0.00  0.0   35.96  0.0  0.0  0.0  0.0  0.0   0.0\n",
       "1996             0.00  0.0   94.70  0.0  0.0  0.0  0.0  0.0   0.0\n",
       "1997             0.00  0.0  136.17  0.0  0.0  0.0  0.0  0.0   0.0"
      ]
     },
     "metadata": {},
     "output_type": "display_data"
    },
    {
     "data": {
      "image/png": "[encoded data removed]",
      "text/plain": [
       "<Figure size 864x504 with 1 Axes>"
      ]
     },
     "metadata": {
      "needs_background": "light"
     },
     "output_type": "display_data"
    }
   ],
   "source": [
    "# change index to column\n",
    "sales_platform.reset_index(level='platform', inplace=True)\n",
    "\n",
    "# extract the top 6 platforms\n",
    "top_platform_sales = sales_platform['platform'].head(9)\n",
    "display('The top 9 platform with highest total sales are:', top_platform_sales)\n",
    "\n",
    "# create dataframe for the top 6 platforms\n",
    "top_platforms = games[games['platform'].isin(top_platform_sales)]\n",
    "\n",
    "# display the first five rows of the dataframe\n",
    "display(top_platforms.head())\n",
    "\n",
    "# create a pivot table for dataframe\n",
    "top_platforms_pivot = top_platforms.pivot_table(\n",
    "    index='year_of_release', values='total_sales', columns='platform', aggfunc=np.sum, fill_value=0)\n",
    "\n",
    "# display the first five rows of the pivot table\n",
    "display(top_platforms_pivot.head())\n",
    "\n",
    "# draw line plot for the pivot table\n",
    "top_platforms_pivot.plot(title='Top Platforms With The Highest Sales', figsize=(12,7), grid=True, marker='o')\n",
    "plt.ylabel('Sales in USD million')\n",
    "plt.xlabel('Year of Release')\n",
    "plt.show()"
   ]
  },
  {
   "cell_type": "markdown",
   "metadata": {},
   "source": [
    "**Conclusion**\n",
    "\n",
    "From the `Variation of Platforms By Sales` bar chart, we chose 9 platforms as the platforms with the greatest total sales. These platforms are PS2, X360, PS3, Wii, DS, PS, GBA, PS4, and PSP. We decided to cerate a dataset for these platforms, grouped the dataset using `.pivot_table()` method, by the games' year of realease with the total sales as the values.  \n",
    "Platforms like PS, PS2, DS, GBA and Wii used to be popular games with high amount of sales globally but they are not popular again as their sales depreciated down to zero sales.  \n",
    "Generally, it took the old platforms like PS and PS2 10 years to fade away and it took 7 years for new platforms to appear.  \n",
    "\n",
    "\n",
    "[<a href=\"#Table-of-contents\">Back to top</a>] "
   ]
  },
  {
   "cell_type": "markdown",
   "metadata": {},
   "source": [
    "#### Determine what period you should take data for"
   ]
  },
  {
   "cell_type": "code",
   "execution_count": 16,
   "metadata": {},
   "outputs": [
    {
     "data": {
      "text/html": [
       "<div>\n",
       "<style scoped>\n",
       "    .dataframe tbody tr th:only-of-type {\n",
       "        vertical-align: middle;\n",
       "    }\n",
       "\n",
       "    .dataframe tbody tr th {\n",
       "        vertical-align: top;\n",
       "    }\n",
       "\n",
       "    .dataframe thead th {\n",
       "        text-align: right;\n",
       "    }\n",
       "</style>\n",
       "<table border=\"1\" class=\"dataframe\">\n",
       "  <thead>\n",
       "    <tr style=\"text-align: right;\">\n",
       "      <th></th>\n",
       "      <th>game_name</th>\n",
       "      <th>platform</th>\n",
       "      <th>year_of_release</th>\n",
       "      <th>genre</th>\n",
       "      <th>north_american_sales</th>\n",
       "      <th>europe_sales</th>\n",
       "      <th>japan_sales</th>\n",
       "      <th>other_countries_sales</th>\n",
       "      <th>critic_score</th>\n",
       "      <th>user_score</th>\n",
       "      <th>esrb_rating</th>\n",
       "      <th>total_sales</th>\n",
       "    </tr>\n",
       "  </thead>\n",
       "  <tbody>\n",
       "    <tr>\n",
       "      <td>16</td>\n",
       "      <td>Grand Theft Auto V</td>\n",
       "      <td>PS3</td>\n",
       "      <td>2013</td>\n",
       "      <td>Action</td>\n",
       "      <td>7.02</td>\n",
       "      <td>9.09</td>\n",
       "      <td>0.98</td>\n",
       "      <td>3.96</td>\n",
       "      <td>97</td>\n",
       "      <td>8.2</td>\n",
       "      <td>M</td>\n",
       "      <td>21.05</td>\n",
       "    </tr>\n",
       "    <tr>\n",
       "      <td>23</td>\n",
       "      <td>Grand Theft Auto V</td>\n",
       "      <td>X360</td>\n",
       "      <td>2013</td>\n",
       "      <td>Action</td>\n",
       "      <td>9.66</td>\n",
       "      <td>5.14</td>\n",
       "      <td>0.06</td>\n",
       "      <td>1.41</td>\n",
       "      <td>97</td>\n",
       "      <td>8.1</td>\n",
       "      <td>M</td>\n",
       "      <td>16.27</td>\n",
       "    </tr>\n",
       "    <tr>\n",
       "      <td>31</td>\n",
       "      <td>Call of Duty: Black Ops 3</td>\n",
       "      <td>PS4</td>\n",
       "      <td>2015</td>\n",
       "      <td>Shooter</td>\n",
       "      <td>6.03</td>\n",
       "      <td>5.86</td>\n",
       "      <td>0.36</td>\n",
       "      <td>2.38</td>\n",
       "      <td>unknown</td>\n",
       "      <td>unknown</td>\n",
       "      <td>undefined</td>\n",
       "      <td>14.63</td>\n",
       "    </tr>\n",
       "    <tr>\n",
       "      <td>33</td>\n",
       "      <td>Pokemon X/Pokemon Y</td>\n",
       "      <td>3DS</td>\n",
       "      <td>2013</td>\n",
       "      <td>Role-Playing</td>\n",
       "      <td>5.28</td>\n",
       "      <td>4.19</td>\n",
       "      <td>4.35</td>\n",
       "      <td>0.78</td>\n",
       "      <td>unknown</td>\n",
       "      <td>unknown</td>\n",
       "      <td>undefined</td>\n",
       "      <td>14.60</td>\n",
       "    </tr>\n",
       "    <tr>\n",
       "      <td>42</td>\n",
       "      <td>Grand Theft Auto V</td>\n",
       "      <td>PS4</td>\n",
       "      <td>2014</td>\n",
       "      <td>Action</td>\n",
       "      <td>3.96</td>\n",
       "      <td>6.31</td>\n",
       "      <td>0.38</td>\n",
       "      <td>1.97</td>\n",
       "      <td>97</td>\n",
       "      <td>8.3</td>\n",
       "      <td>M</td>\n",
       "      <td>12.62</td>\n",
       "    </tr>\n",
       "  </tbody>\n",
       "</table>\n",
       "</div>"
      ],
      "text/plain": [
       "                    game_name platform  year_of_release         genre  \\\n",
       "16         Grand Theft Auto V      PS3             2013        Action   \n",
       "23         Grand Theft Auto V     X360             2013        Action   \n",
       "31  Call of Duty: Black Ops 3      PS4             2015       Shooter   \n",
       "33        Pokemon X/Pokemon Y      3DS             2013  Role-Playing   \n",
       "42         Grand Theft Auto V      PS4             2014        Action   \n",
       "\n",
       "    north_american_sales  europe_sales  japan_sales  other_countries_sales  \\\n",
       "16                  7.02          9.09         0.98                   3.96   \n",
       "23                  9.66          5.14         0.06                   1.41   \n",
       "31                  6.03          5.86         0.36                   2.38   \n",
       "33                  5.28          4.19         4.35                   0.78   \n",
       "42                  3.96          6.31         0.38                   1.97   \n",
       "\n",
       "   critic_score user_score esrb_rating  total_sales  \n",
       "16           97        8.2           M        21.05  \n",
       "23           97        8.1           M        16.27  \n",
       "31      unknown    unknown   undefined        14.63  \n",
       "33      unknown    unknown   undefined        14.60  \n",
       "42           97        8.3           M        12.62  "
      ]
     },
     "metadata": {},
     "output_type": "display_data"
    }
   ],
   "source": [
    "# filter data with year of release from 2013 \n",
    "games_new = games[games['year_of_release'] >= 2013]\n",
    "display(games_new.head())"
   ]
  },
  {
   "cell_type": "markdown",
   "metadata": {},
   "source": [
    "From our line plot, we decided to pick 2013 as the year to take data from so that we will be able to build a prognosis for the year 2017. We consider 3 years sufficient to study and make prediction for sales, so we used the year 2013 to create a dataset which we will continue to work on."
   ]
  },
  {
   "cell_type": "markdown",
   "metadata": {},
   "source": [
    "#### Which platforms are leading in sales?"
   ]
  },
  {
   "cell_type": "code",
   "execution_count": 17,
   "metadata": {},
   "outputs": [
    {
     "data": {
      "text/html": [
       "<div>\n",
       "<style scoped>\n",
       "    .dataframe tbody tr th:only-of-type {\n",
       "        vertical-align: middle;\n",
       "    }\n",
       "\n",
       "    .dataframe tbody tr th {\n",
       "        vertical-align: top;\n",
       "    }\n",
       "\n",
       "    .dataframe thead th {\n",
       "        text-align: right;\n",
       "    }\n",
       "</style>\n",
       "<table border=\"1\" class=\"dataframe\">\n",
       "  <thead>\n",
       "    <tr style=\"text-align: right;\">\n",
       "      <th></th>\n",
       "      <th>total_sales</th>\n",
       "    </tr>\n",
       "    <tr>\n",
       "      <th>platform</th>\n",
       "      <th></th>\n",
       "    </tr>\n",
       "  </thead>\n",
       "  <tbody>\n",
       "    <tr>\n",
       "      <td>PS4</td>\n",
       "      <td>314.14</td>\n",
       "    </tr>\n",
       "    <tr>\n",
       "      <td>PS3</td>\n",
       "      <td>181.43</td>\n",
       "    </tr>\n",
       "    <tr>\n",
       "      <td>XOne</td>\n",
       "      <td>159.32</td>\n",
       "    </tr>\n",
       "    <tr>\n",
       "      <td>3DS</td>\n",
       "      <td>143.25</td>\n",
       "    </tr>\n",
       "    <tr>\n",
       "      <td>X360</td>\n",
       "      <td>136.80</td>\n",
       "    </tr>\n",
       "    <tr>\n",
       "      <td>WiiU</td>\n",
       "      <td>64.63</td>\n",
       "    </tr>\n",
       "    <tr>\n",
       "      <td>PC</td>\n",
       "      <td>40.06</td>\n",
       "    </tr>\n",
       "    <tr>\n",
       "      <td>PSV</td>\n",
       "      <td>33.25</td>\n",
       "    </tr>\n",
       "    <tr>\n",
       "      <td>Wii</td>\n",
       "      <td>13.66</td>\n",
       "    </tr>\n",
       "    <tr>\n",
       "      <td>PSP</td>\n",
       "      <td>3.74</td>\n",
       "    </tr>\n",
       "    <tr>\n",
       "      <td>DS</td>\n",
       "      <td>1.54</td>\n",
       "    </tr>\n",
       "  </tbody>\n",
       "</table>\n",
       "</div>"
      ],
      "text/plain": [
       "          total_sales\n",
       "platform             \n",
       "PS4            314.14\n",
       "PS3            181.43\n",
       "XOne           159.32\n",
       "3DS            143.25\n",
       "X360           136.80\n",
       "WiiU            64.63\n",
       "PC              40.06\n",
       "PSV             33.25\n",
       "Wii             13.66\n",
       "PSP              3.74\n",
       "DS               1.54"
      ]
     },
     "metadata": {},
     "output_type": "display_data"
    },
    {
     "data": {
      "image/png": "[encoded data removed]",
      "text/plain": [
       "<Figure size 864x504 with 1 Axes>"
      ]
     },
     "metadata": {
      "needs_background": "light"
     },
     "output_type": "display_data"
    }
   ],
   "source": [
    "# create a pivot table for the number of games per year\n",
    "new_sales_platform = games_new.pivot_table(\n",
    "    index='platform', values='total_sales', aggfunc='sum').sort_values(\n",
    "    by='total_sales', ascending=False)\n",
    "\n",
    "display(new_sales_platform)\n",
    "# create bar chart diplaying the number of games in different years\n",
    "new_sales_platform.plot.bar(title='Variation of Platforms By Sales',figsize=(12,7), grid=True)\n",
    "plt.ylabel('Total Sales')\n",
    "plt.xlabel('Platforms')\n",
    "plt.show()"
   ]
  },
  {
   "cell_type": "markdown",
   "metadata": {},
   "source": [
    "**Conclusion**\n",
    "\n",
    "To determine the platforms that are leading in sales, we decided to create a pivot table from our new dataset and used this pivot table to plot a bar chart with the platforms as the horizontal axis and the total sales as the vertical axis.\n",
    "\n",
    "From the bar chart, we were able to pick the top five platforms that are leading in sales. These platforms are PS4, PS3, XOne, 3DS and X360. The platforms are listed in accordance of their position in sales leader board, with PS4 having a total sales of over 300 million dollars.\n",
    "\n",
    "\n",
    "[<a href=\"#Table-of-contents\">Back to top</a>]"
   ]
  },
  {
   "cell_type": "code",
   "execution_count": 18,
   "metadata": {},
   "outputs": [
    {
     "data": {
      "text/html": [
       "<div>\n",
       "<style scoped>\n",
       "    .dataframe tbody tr th:only-of-type {\n",
       "        vertical-align: middle;\n",
       "    }\n",
       "\n",
       "    .dataframe tbody tr th {\n",
       "        vertical-align: top;\n",
       "    }\n",
       "\n",
       "    .dataframe thead th {\n",
       "        text-align: right;\n",
       "    }\n",
       "</style>\n",
       "<table border=\"1\" class=\"dataframe\">\n",
       "  <thead>\n",
       "    <tr style=\"text-align: right;\">\n",
       "      <th>platform</th>\n",
       "      <th>3DS</th>\n",
       "      <th>DS</th>\n",
       "      <th>PC</th>\n",
       "      <th>PS3</th>\n",
       "      <th>PS4</th>\n",
       "      <th>PSP</th>\n",
       "      <th>PSV</th>\n",
       "      <th>Wii</th>\n",
       "      <th>WiiU</th>\n",
       "      <th>X360</th>\n",
       "      <th>XOne</th>\n",
       "    </tr>\n",
       "    <tr>\n",
       "      <th>year_of_release</th>\n",
       "      <th></th>\n",
       "      <th></th>\n",
       "      <th></th>\n",
       "      <th></th>\n",
       "      <th></th>\n",
       "      <th></th>\n",
       "      <th></th>\n",
       "      <th></th>\n",
       "      <th></th>\n",
       "      <th></th>\n",
       "      <th></th>\n",
       "    </tr>\n",
       "  </thead>\n",
       "  <tbody>\n",
       "    <tr>\n",
       "      <td>2013</td>\n",
       "      <td>56.57</td>\n",
       "      <td>1.54</td>\n",
       "      <td>13.01</td>\n",
       "      <td>113.25</td>\n",
       "      <td>25.99</td>\n",
       "      <td>3.38</td>\n",
       "      <td>10.59</td>\n",
       "      <td>8.59</td>\n",
       "      <td>21.65</td>\n",
       "      <td>88.58</td>\n",
       "      <td>18.96</td>\n",
       "    </tr>\n",
       "    <tr>\n",
       "      <td>2014</td>\n",
       "      <td>43.76</td>\n",
       "      <td>0.00</td>\n",
       "      <td>13.28</td>\n",
       "      <td>47.76</td>\n",
       "      <td>100.00</td>\n",
       "      <td>0.24</td>\n",
       "      <td>11.90</td>\n",
       "      <td>3.75</td>\n",
       "      <td>22.03</td>\n",
       "      <td>34.74</td>\n",
       "      <td>54.07</td>\n",
       "    </tr>\n",
       "    <tr>\n",
       "      <td>2015</td>\n",
       "      <td>27.78</td>\n",
       "      <td>0.00</td>\n",
       "      <td>8.52</td>\n",
       "      <td>16.82</td>\n",
       "      <td>118.90</td>\n",
       "      <td>0.12</td>\n",
       "      <td>6.51</td>\n",
       "      <td>1.14</td>\n",
       "      <td>16.35</td>\n",
       "      <td>11.96</td>\n",
       "      <td>60.14</td>\n",
       "    </tr>\n",
       "    <tr>\n",
       "      <td>2016</td>\n",
       "      <td>15.14</td>\n",
       "      <td>0.00</td>\n",
       "      <td>5.25</td>\n",
       "      <td>3.60</td>\n",
       "      <td>69.25</td>\n",
       "      <td>0.00</td>\n",
       "      <td>4.25</td>\n",
       "      <td>0.18</td>\n",
       "      <td>4.60</td>\n",
       "      <td>1.52</td>\n",
       "      <td>26.15</td>\n",
       "    </tr>\n",
       "  </tbody>\n",
       "</table>\n",
       "</div>"
      ],
      "text/plain": [
       "platform           3DS    DS     PC     PS3     PS4   PSP    PSV   Wii   WiiU  \\\n",
       "year_of_release                                                                 \n",
       "2013             56.57  1.54  13.01  113.25   25.99  3.38  10.59  8.59  21.65   \n",
       "2014             43.76  0.00  13.28   47.76  100.00  0.24  11.90  3.75  22.03   \n",
       "2015             27.78  0.00   8.52   16.82  118.90  0.12   6.51  1.14  16.35   \n",
       "2016             15.14  0.00   5.25    3.60   69.25  0.00   4.25  0.18   4.60   \n",
       "\n",
       "platform          X360   XOne  \n",
       "year_of_release                \n",
       "2013             88.58  18.96  \n",
       "2014             34.74  54.07  \n",
       "2015             11.96  60.14  \n",
       "2016              1.52  26.15  "
      ]
     },
     "metadata": {},
     "output_type": "display_data"
    },
    {
     "data": {
      "image/png": "[encoded data removed]",
      "text/plain": [
       "<Figure size 864x504 with 1 Axes>"
      ]
     },
     "metadata": {
      "needs_background": "light"
     },
     "output_type": "display_data"
    }
   ],
   "source": [
    "new_platform_year_sales = games_new.pivot_table(\n",
    "    index='year_of_release', values='total_sales', columns='platform', aggfunc=np.sum, fill_value=0)\n",
    "display(new_platform_year_sales.head())\n",
    "\n",
    "new_platform_year_sales.plot(title='Top 10 Platforms With The Highest Sales', figsize=(12,7), grid=True, marker='o')\n",
    "plt.ylabel('Sales in USD million', size=15)\n",
    "plt.xlabel('Year of Release', size=15)\n",
    "plt.show()"
   ]
  },
  {
   "cell_type": "markdown",
   "metadata": {},
   "source": [
    "**Conclusion** \n",
    "\n",
    "We decided to build a line plot showing trend of the top 10 platforms with the highest sales. It can be deduced from our line plot that PS4 and XOne are the only platforms that growing in sales by years, while PS3, X360, and 3DS platforms are shrinking.  \n",
    "PC, DS, PSV and Wii are considered potential profitable platforms as there are slight changes in sales for these platforms from 2013 to 2015.\n",
    "\n",
    "[<a href=\"#Table-of-contents\">Back to top</a>]"
   ]
  },
  {
   "cell_type": "markdown",
   "metadata": {},
   "source": [
    "#### Box plot for the global sales of all games, broken down by platform"
   ]
  },
  {
   "cell_type": "code",
   "execution_count": 19,
   "metadata": {},
   "outputs": [
    {
     "data": {
      "text/html": [
       "<div>\n",
       "<style scoped>\n",
       "    .dataframe tbody tr th:only-of-type {\n",
       "        vertical-align: middle;\n",
       "    }\n",
       "\n",
       "    .dataframe tbody tr th {\n",
       "        vertical-align: top;\n",
       "    }\n",
       "\n",
       "    .dataframe thead th {\n",
       "        text-align: right;\n",
       "    }\n",
       "</style>\n",
       "<table border=\"1\" class=\"dataframe\">\n",
       "  <thead>\n",
       "    <tr style=\"text-align: right;\">\n",
       "      <th></th>\n",
       "      <th>platform</th>\n",
       "      <th>game_name</th>\n",
       "      <th>total_sales</th>\n",
       "    </tr>\n",
       "  </thead>\n",
       "  <tbody>\n",
       "    <tr>\n",
       "      <td>0</td>\n",
       "      <td>PS3</td>\n",
       "      <td>Grand Theft Auto V</td>\n",
       "      <td>21.05</td>\n",
       "    </tr>\n",
       "    <tr>\n",
       "      <td>1</td>\n",
       "      <td>X360</td>\n",
       "      <td>Grand Theft Auto V</td>\n",
       "      <td>16.27</td>\n",
       "    </tr>\n",
       "    <tr>\n",
       "      <td>2</td>\n",
       "      <td>PS4</td>\n",
       "      <td>Call of Duty: Black Ops 3</td>\n",
       "      <td>14.63</td>\n",
       "    </tr>\n",
       "    <tr>\n",
       "      <td>3</td>\n",
       "      <td>3DS</td>\n",
       "      <td>Pokemon X/Pokemon Y</td>\n",
       "      <td>14.60</td>\n",
       "    </tr>\n",
       "    <tr>\n",
       "      <td>4</td>\n",
       "      <td>PS4</td>\n",
       "      <td>Grand Theft Auto V</td>\n",
       "      <td>12.62</td>\n",
       "    </tr>\n",
       "    <tr>\n",
       "      <td>5</td>\n",
       "      <td>3DS</td>\n",
       "      <td>Pokemon Omega Ruby/Pokemon Alpha Sapphire</td>\n",
       "      <td>11.68</td>\n",
       "    </tr>\n",
       "    <tr>\n",
       "      <td>6</td>\n",
       "      <td>X360</td>\n",
       "      <td>Call of Duty: Ghosts</td>\n",
       "      <td>10.24</td>\n",
       "    </tr>\n",
       "    <tr>\n",
       "      <td>7</td>\n",
       "      <td>PS3</td>\n",
       "      <td>Call of Duty: Ghosts</td>\n",
       "      <td>9.36</td>\n",
       "    </tr>\n",
       "    <tr>\n",
       "      <td>8</td>\n",
       "      <td>X360</td>\n",
       "      <td>Minecraft</td>\n",
       "      <td>9.18</td>\n",
       "    </tr>\n",
       "    <tr>\n",
       "      <td>9</td>\n",
       "      <td>PS4</td>\n",
       "      <td>FIFA 16</td>\n",
       "      <td>8.58</td>\n",
       "    </tr>\n",
       "  </tbody>\n",
       "</table>\n",
       "</div>"
      ],
      "text/plain": [
       "  platform                                  game_name  total_sales\n",
       "0      PS3                         Grand Theft Auto V        21.05\n",
       "1     X360                         Grand Theft Auto V        16.27\n",
       "2      PS4                  Call of Duty: Black Ops 3        14.63\n",
       "3      3DS                        Pokemon X/Pokemon Y        14.60\n",
       "4      PS4                         Grand Theft Auto V        12.62\n",
       "5      3DS  Pokemon Omega Ruby/Pokemon Alpha Sapphire        11.68\n",
       "6     X360                       Call of Duty: Ghosts        10.24\n",
       "7      PS3                       Call of Duty: Ghosts         9.36\n",
       "8     X360                                  Minecraft         9.18\n",
       "9      PS4                                    FIFA 16         8.58"
      ]
     },
     "metadata": {},
     "output_type": "display_data"
    },
    {
     "data": {
      "image/png": "[encoded data removed]",
      "text/plain": [
       "<Figure size 864x504 with 1 Axes>"
      ]
     },
     "metadata": {
      "needs_background": "light"
     },
     "output_type": "display_data"
    }
   ],
   "source": [
    "# group the dataset by platform and name \n",
    "boxplot_data = games_new.groupby(\n",
    "    ['platform','game_name'])['total_sales'].sum().sort_values(ascending = False).reset_index()\n",
    "\n",
    "# display the first ten rows  \n",
    "display(boxplot_data.head(10))\n",
    "\n",
    "# group the grouped data by platform\n",
    "boxplot_ordered = boxplot_data.groupby(['platform'])['total_sales'].sum().sort_values().reset_index()['platform']\n",
    "boxplot_ordered\n",
    "\n",
    "# build a boxplot\n",
    "y_values = boxplot_data[\"total_sales\"].values\n",
    "plt.figure(figsize=(12, 7))\n",
    "sns.boxplot(x = 'platform', y = 'total_sales', data = boxplot_data,  sym='')\n",
    "plt.title('Boxplot For Global Sales For Platforms ', size=20)\n",
    "plt.xlabel('Platform', size=15)\n",
    "plt.ylabel('Total Sales in Million Dollars', size=15)\n",
    "plt.show() "
   ]
  },
  {
   "cell_type": "markdown",
   "metadata": {},
   "source": [
    "**Conclusion** \n",
    "\n",
    "We decided to build box plot for the global sales of all games based on platforms. We first grouped our working dataset by platform and the name of games to get the sum of total sales for each games in a platform. Looking at our table, we will say that the differences in sales for the games are not significant with `Grand Theft Auto V` toping the chart with 21.05 million dollars.  \n",
    "But looking at the result on our boxplot, we can see that the differences in sales varies from platform to platform, meaning the differences is significant. \n",
    "\n",
    "\n",
    "[<a href=\"#Table-of-contents\">Back to top</a>] "
   ]
  },
  {
   "cell_type": "code",
   "execution_count": 20,
   "metadata": {},
   "outputs": [
    {
     "data": {
      "text/html": [
       "<div>\n",
       "<style scoped>\n",
       "    .dataframe tbody tr th:only-of-type {\n",
       "        vertical-align: middle;\n",
       "    }\n",
       "\n",
       "    .dataframe tbody tr th {\n",
       "        vertical-align: top;\n",
       "    }\n",
       "\n",
       "    .dataframe thead th {\n",
       "        text-align: right;\n",
       "    }\n",
       "</style>\n",
       "<table border=\"1\" class=\"dataframe\">\n",
       "  <thead>\n",
       "    <tr style=\"text-align: right;\">\n",
       "      <th></th>\n",
       "      <th>platform</th>\n",
       "      <th>total_sales</th>\n",
       "      <th>game_name</th>\n",
       "      <th>average_sales</th>\n",
       "    </tr>\n",
       "  </thead>\n",
       "  <tbody>\n",
       "    <tr>\n",
       "      <td>4</td>\n",
       "      <td>PS4</td>\n",
       "      <td>314.14</td>\n",
       "      <td>392</td>\n",
       "      <td>0.801378</td>\n",
       "    </tr>\n",
       "    <tr>\n",
       "      <td>9</td>\n",
       "      <td>X360</td>\n",
       "      <td>136.80</td>\n",
       "      <td>186</td>\n",
       "      <td>0.735484</td>\n",
       "    </tr>\n",
       "    <tr>\n",
       "      <td>10</td>\n",
       "      <td>XOne</td>\n",
       "      <td>159.32</td>\n",
       "      <td>247</td>\n",
       "      <td>0.645020</td>\n",
       "    </tr>\n",
       "    <tr>\n",
       "      <td>7</td>\n",
       "      <td>Wii</td>\n",
       "      <td>13.66</td>\n",
       "      <td>23</td>\n",
       "      <td>0.593913</td>\n",
       "    </tr>\n",
       "    <tr>\n",
       "      <td>8</td>\n",
       "      <td>WiiU</td>\n",
       "      <td>64.63</td>\n",
       "      <td>115</td>\n",
       "      <td>0.562000</td>\n",
       "    </tr>\n",
       "    <tr>\n",
       "      <td>3</td>\n",
       "      <td>PS3</td>\n",
       "      <td>181.43</td>\n",
       "      <td>345</td>\n",
       "      <td>0.525884</td>\n",
       "    </tr>\n",
       "    <tr>\n",
       "      <td>0</td>\n",
       "      <td>3DS</td>\n",
       "      <td>143.25</td>\n",
       "      <td>303</td>\n",
       "      <td>0.472772</td>\n",
       "    </tr>\n",
       "    <tr>\n",
       "      <td>2</td>\n",
       "      <td>PC</td>\n",
       "      <td>40.06</td>\n",
       "      <td>192</td>\n",
       "      <td>0.208646</td>\n",
       "    </tr>\n",
       "    <tr>\n",
       "      <td>1</td>\n",
       "      <td>DS</td>\n",
       "      <td>1.54</td>\n",
       "      <td>8</td>\n",
       "      <td>0.192500</td>\n",
       "    </tr>\n",
       "    <tr>\n",
       "      <td>6</td>\n",
       "      <td>PSV</td>\n",
       "      <td>33.25</td>\n",
       "      <td>359</td>\n",
       "      <td>0.092618</td>\n",
       "    </tr>\n",
       "    <tr>\n",
       "      <td>5</td>\n",
       "      <td>PSP</td>\n",
       "      <td>3.74</td>\n",
       "      <td>68</td>\n",
       "      <td>0.055000</td>\n",
       "    </tr>\n",
       "  </tbody>\n",
       "</table>\n",
       "</div>"
      ],
      "text/plain": [
       "   platform  total_sales  game_name  average_sales\n",
       "4       PS4       314.14        392       0.801378\n",
       "9      X360       136.80        186       0.735484\n",
       "10     XOne       159.32        247       0.645020\n",
       "7       Wii        13.66         23       0.593913\n",
       "8      WiiU        64.63        115       0.562000\n",
       "3       PS3       181.43        345       0.525884\n",
       "0       3DS       143.25        303       0.472772\n",
       "2        PC        40.06        192       0.208646\n",
       "1        DS         1.54          8       0.192500\n",
       "6       PSV        33.25        359       0.092618\n",
       "5       PSP         3.74         68       0.055000"
      ]
     },
     "metadata": {},
     "output_type": "display_data"
    },
    {
     "data": {
      "image/png": "[encoded data removed]",
      "text/plain": [
       "<Figure size 864x504 with 1 Axes>"
      ]
     },
     "metadata": {
      "needs_background": "light"
     },
     "output_type": "display_data"
    }
   ],
   "source": [
    "avg_sales = (games_new.groupby('platform').agg({\n",
    "    'total_sales':'sum', 'game_name':'count'}).reset_index())\n",
    "\n",
    "avg_sales['average_sales'] = avg_sales['total_sales'] / avg_sales['game_name']\n",
    "\n",
    "avg_sales = avg_sales.sort_values(by='average_sales', ascending = False)\n",
    "display(avg_sales)\n",
    "\n",
    "\n",
    "y_values = avg_sales[\"average_sales\"].values\n",
    "plt.figure(figsize=(12, 7))\n",
    "sns.barplot(x = 'platform', y = 'average_sales', data = avg_sales)\n",
    "plt.title('Average Total Sales Per Platform ', size=20)\n",
    "plt.xlabel('Platform', size=15)\n",
    "plt.ylabel('Average Sales', size=15)\n",
    "plt.show()"
   ]
  },
  {
   "cell_type": "markdown",
   "metadata": {},
   "source": [
    "**Conclusion** \n",
    "\n",
    "We decided to calculate the average sales of games on various platforms by dividing the total sales of a platform by the number of games in the same platform. We saved the result of the average sales in column and used it to plot a bar chart to visualize our result.  \n",
    "From the bar chart, PS4 has the highest average sales of games, and PSP has the lowest average sales of games.\n",
    "\n",
    "[<a href=\"#Table-of-contents\">Back to top</a>]"
   ]
  },
  {
   "cell_type": "markdown",
   "metadata": {},
   "source": [
    "#### How user and professional reviews affect sales for one popular platform"
   ]
  },
  {
   "cell_type": "code",
   "execution_count": 21,
   "metadata": {},
   "outputs": [
    {
     "data": {
      "text/plain": [
       "dtype('float64')"
      ]
     },
     "metadata": {},
     "output_type": "display_data"
    },
    {
     "data": {
      "text/plain": [
       "dtype('float64')"
      ]
     },
     "metadata": {},
     "output_type": "display_data"
    }
   ],
   "source": [
    "# create a data slice for PS4 platform\n",
    "popular_platform = games_new.query('platform == \"PS4\"')\n",
    "\n",
    "\n",
    "# remove the 'unknown' values from the column\n",
    "popular_platform = popular_platform.query('critic_score != \"unknown\" and user_score != [\"unknown\", \"tbd\"]')\n",
    "\n",
    "# change the data type of the column\n",
    "popular_platform.loc[:, 'critic_score'] = popular_platform['critic_score'].astype(float)\n",
    "\n",
    "# display the data type of the column\n",
    "display(popular_platform['critic_score'].dtype)\n",
    "\n",
    "\n",
    "# change the data type of the column\n",
    "popular_platform['user_score'] = pd.to_numeric(popular_platform['user_score'])\n",
    "\n",
    "# display the data type of the column\n",
    "display(popular_platform['critic_score'].dtype)"
   ]
  },
  {
   "cell_type": "code",
   "execution_count": 22,
   "metadata": {},
   "outputs": [
    {
     "data": {
      "text/plain": [
       "<Figure size 864x504 with 0 Axes>"
      ]
     },
     "metadata": {},
     "output_type": "display_data"
    },
    {
     "data": {
      "image/png": "[encoded data removed]",
      "text/plain": [
       "<Figure size 864x504 with 1 Axes>"
      ]
     },
     "metadata": {
      "needs_background": "light"
     },
     "output_type": "display_data"
    }
   ],
   "source": [
    "# create a boxplot for professional review\n",
    "plt.figure(figsize=(12, 7))\n",
    "popular_platform.plot(x='critic_score', y='total_sales', kind='scatter', figsize=(12, 7))\n",
    "plt.title('Professional Reviews For Games On PS4', size=20)\n",
    "plt.xlabel('Critic Score', size=15)\n",
    "plt.ylabel('Total Sales in Million Dollars', size=15)\n",
    "plt.show()"
   ]
  },
  {
   "cell_type": "code",
   "execution_count": 23,
   "metadata": {},
   "outputs": [
    {
     "data": {
      "text/plain": [
       "<Figure size 864x504 with 0 Axes>"
      ]
     },
     "metadata": {},
     "output_type": "display_data"
    },
    {
     "data": {
      "image/png": "[encoded data removed]",
      "text/plain": [
       "<Figure size 864x504 with 1 Axes>"
      ]
     },
     "metadata": {
      "needs_background": "light"
     },
     "output_type": "display_data"
    }
   ],
   "source": [
    "# create a boxplot for user review\n",
    "plt.figure(figsize=(12, 7))\n",
    "popular_platform.plot(x='user_score', y='total_sales', kind='scatter', figsize=(12, 7))\n",
    "plt.title('User Reviews For Games On PS4', size=20)\n",
    "plt.xlabel('User Score', size=15)\n",
    "plt.ylabel('Total Sales in Million Dollars', size=15)\n",
    "plt.show()"
   ]
  },
  {
   "cell_type": "code",
   "execution_count": 24,
   "metadata": {},
   "outputs": [
    {
     "data": {
      "text/plain": [
       "'The correlation coefficient between professional review and sales is 0.41'"
      ]
     },
     "metadata": {},
     "output_type": "display_data"
    },
    {
     "data": {
      "text/plain": [
       "'The correlation coefficient between user review and sales is -0.03'"
      ]
     },
     "metadata": {},
     "output_type": "display_data"
    }
   ],
   "source": [
    "# calculate correlation between professional review and sales\n",
    "critic_corr = popular_platform['critic_score'].corr(popular_platform['total_sales'])\n",
    "display('The correlation coefficient between professional review and sales is {:.2f}'.format(critic_corr))\n",
    "\n",
    "# calculate correlation between user review and sales\n",
    "user_corr = popular_platform['user_score'].corr(popular_platform['total_sales'])\n",
    "display('The correlation coefficient between user review and sales is {:.2f}'.format(user_corr))"
   ]
  },
  {
   "cell_type": "markdown",
   "metadata": {},
   "source": [
    "**Conclusion**\n",
    "\n",
    "We consider the popular platform to be PS4 because it has the highest average sales of all platforms from 2013 till 2016. We then decided to look at how professional and user review affect sales on this platform.\n",
    "\n",
    "We began by making a slice of our dataset where the platform is PS4. We then create  boxplot for `critical_score` and `total_sales`, and also for `user_score` and `total_sales`.\n",
    "\n",
    "For the first boxplot, `Professional Reviews For Games On PS4`, we can see that there is increase in total sales as the critic score increases. And also, a correlation of 0.41 between `critic_score` and `total_sales` implies a connection. We can therefore say that professional reviews do affect or have impact on sales on PS4 platform.\n",
    "\n",
    "For the second boxplot, `User Reviews For Games On PS4`, we can see that there is almost an even distribution in the plot. And also, a correlation of -0.03 between `user_score` and `total_sales` implies no connection. We therefore say that user review do not affect sales on PS4 platform.\n",
    "\n",
    "\n",
    "[<a href=\"#Table-of-contents\">Back to top</a>]"
   ]
  },
  {
   "cell_type": "markdown",
   "metadata": {},
   "source": [
    "#### Compare the sales of the same games on other platforms"
   ]
  },
  {
   "cell_type": "code",
   "execution_count": 25,
   "metadata": {
    "scrolled": true
   },
   "outputs": [
    {
     "data": {
      "text/plain": [
       "dtype('float64')"
      ]
     },
     "metadata": {},
     "output_type": "display_data"
    },
    {
     "data": {
      "text/plain": [
       "dtype('float64')"
      ]
     },
     "metadata": {},
     "output_type": "display_data"
    },
    {
     "data": {
      "text/html": [
       "<div>\n",
       "<style scoped>\n",
       "    .dataframe tbody tr th:only-of-type {\n",
       "        vertical-align: middle;\n",
       "    }\n",
       "\n",
       "    .dataframe tbody tr th {\n",
       "        vertical-align: top;\n",
       "    }\n",
       "\n",
       "    .dataframe thead th {\n",
       "        text-align: right;\n",
       "    }\n",
       "</style>\n",
       "<table border=\"1\" class=\"dataframe\">\n",
       "  <thead>\n",
       "    <tr style=\"text-align: right;\">\n",
       "      <th></th>\n",
       "      <th>game_name</th>\n",
       "      <th>platform</th>\n",
       "      <th>year_of_release</th>\n",
       "      <th>genre</th>\n",
       "      <th>north_american_sales</th>\n",
       "      <th>europe_sales</th>\n",
       "      <th>japan_sales</th>\n",
       "      <th>other_countries_sales</th>\n",
       "      <th>critic_score</th>\n",
       "      <th>user_score</th>\n",
       "      <th>esrb_rating</th>\n",
       "      <th>total_sales</th>\n",
       "    </tr>\n",
       "  </thead>\n",
       "  <tbody>\n",
       "    <tr>\n",
       "      <td>16</td>\n",
       "      <td>Grand Theft Auto V</td>\n",
       "      <td>PS3</td>\n",
       "      <td>2013</td>\n",
       "      <td>Action</td>\n",
       "      <td>7.02</td>\n",
       "      <td>9.09</td>\n",
       "      <td>0.98</td>\n",
       "      <td>3.96</td>\n",
       "      <td>97.0</td>\n",
       "      <td>8.2</td>\n",
       "      <td>M</td>\n",
       "      <td>21.05</td>\n",
       "    </tr>\n",
       "    <tr>\n",
       "      <td>23</td>\n",
       "      <td>Grand Theft Auto V</td>\n",
       "      <td>X360</td>\n",
       "      <td>2013</td>\n",
       "      <td>Action</td>\n",
       "      <td>9.66</td>\n",
       "      <td>5.14</td>\n",
       "      <td>0.06</td>\n",
       "      <td>1.41</td>\n",
       "      <td>97.0</td>\n",
       "      <td>8.1</td>\n",
       "      <td>M</td>\n",
       "      <td>16.27</td>\n",
       "    </tr>\n",
       "    <tr>\n",
       "      <td>60</td>\n",
       "      <td>Call of Duty: Ghosts</td>\n",
       "      <td>X360</td>\n",
       "      <td>2013</td>\n",
       "      <td>Shooter</td>\n",
       "      <td>6.73</td>\n",
       "      <td>2.56</td>\n",
       "      <td>0.04</td>\n",
       "      <td>0.91</td>\n",
       "      <td>73.0</td>\n",
       "      <td>2.6</td>\n",
       "      <td>M</td>\n",
       "      <td>10.24</td>\n",
       "    </tr>\n",
       "    <tr>\n",
       "      <td>69</td>\n",
       "      <td>Call of Duty: Ghosts</td>\n",
       "      <td>PS3</td>\n",
       "      <td>2013</td>\n",
       "      <td>Shooter</td>\n",
       "      <td>4.10</td>\n",
       "      <td>3.63</td>\n",
       "      <td>0.38</td>\n",
       "      <td>1.25</td>\n",
       "      <td>71.0</td>\n",
       "      <td>2.6</td>\n",
       "      <td>M</td>\n",
       "      <td>9.36</td>\n",
       "    </tr>\n",
       "    <tr>\n",
       "      <td>126</td>\n",
       "      <td>FIFA 14</td>\n",
       "      <td>PS3</td>\n",
       "      <td>2013</td>\n",
       "      <td>Sports</td>\n",
       "      <td>0.78</td>\n",
       "      <td>4.24</td>\n",
       "      <td>0.07</td>\n",
       "      <td>1.37</td>\n",
       "      <td>86.0</td>\n",
       "      <td>4.3</td>\n",
       "      <td>E</td>\n",
       "      <td>6.46</td>\n",
       "    </tr>\n",
       "  </tbody>\n",
       "</table>\n",
       "</div>"
      ],
      "text/plain": [
       "                game_name platform  year_of_release    genre  \\\n",
       "16     Grand Theft Auto V      PS3             2013   Action   \n",
       "23     Grand Theft Auto V     X360             2013   Action   \n",
       "60   Call of Duty: Ghosts     X360             2013  Shooter   \n",
       "69   Call of Duty: Ghosts      PS3             2013  Shooter   \n",
       "126               FIFA 14      PS3             2013   Sports   \n",
       "\n",
       "     north_american_sales  europe_sales  japan_sales  other_countries_sales  \\\n",
       "16                   7.02          9.09         0.98                   3.96   \n",
       "23                   9.66          5.14         0.06                   1.41   \n",
       "60                   6.73          2.56         0.04                   0.91   \n",
       "69                   4.10          3.63         0.38                   1.25   \n",
       "126                  0.78          4.24         0.07                   1.37   \n",
       "\n",
       "     critic_score  user_score esrb_rating  total_sales  \n",
       "16           97.0         8.2           M        21.05  \n",
       "23           97.0         8.1           M        16.27  \n",
       "60           73.0         2.6           M        10.24  \n",
       "69           71.0         2.6           M         9.36  \n",
       "126          86.0         4.3           E         6.46  "
      ]
     },
     "metadata": {},
     "output_type": "display_data"
    }
   ],
   "source": [
    "\n",
    "other_platform = games_new.query('platform != \"PS4\"')\n",
    "\n",
    "common_games = []\n",
    "\n",
    "for x in popular_platform['game_name']:\n",
    "    common_games.append(x)\n",
    "    \n",
    "other_platform = other_platform[other_platform['game_name'].isin(common_games)]\n",
    "\n",
    "\n",
    "\n",
    "# remove the 'unknown' values from the column\n",
    "other_platform = other_platform.query('critic_score != \"unknown\" and user_score != [\"unknown\", \"tbd\"]')\n",
    "\n",
    "# change the data type of the column\n",
    "other_platform.loc[:, 'critic_score'] = other_platform['critic_score'].astype(float)\n",
    "\n",
    "# display the data type of the column\n",
    "display(other_platform['critic_score'].dtype)\n",
    "\n",
    "\n",
    "# change the data type of the column\n",
    "other_platform['user_score'] = pd.to_numeric(other_platform['user_score'])\n",
    "\n",
    "# display the data type of the column\n",
    "display(other_platform['critic_score'].dtype)\n",
    "\n",
    "display(other_platform.head())"
   ]
  },
  {
   "cell_type": "code",
   "execution_count": 26,
   "metadata": {},
   "outputs": [
    {
     "data": {
      "text/plain": [
       "<Figure size 864x504 with 0 Axes>"
      ]
     },
     "metadata": {},
     "output_type": "display_data"
    },
    {
     "data": {
      "image/png": "[encoded data removed]",
      "text/plain": [
       "<Figure size 864x504 with 1 Axes>"
      ]
     },
     "metadata": {
      "needs_background": "light"
     },
     "output_type": "display_data"
    }
   ],
   "source": [
    "# create a boxplot for professional review\n",
    "plt.figure(figsize=(12, 7))\n",
    "other_platform.plot(x='critic_score', y='total_sales', kind='scatter', figsize=(12, 7))\n",
    "plt.title('Professional Reviews For Games On Other Platforms', size=20)\n",
    "plt.xlabel('Critic Score', size=15)\n",
    "plt.ylabel('Total Sales in Million Dollars', size=15)\n",
    "plt.show()"
   ]
  },
  {
   "cell_type": "code",
   "execution_count": 27,
   "metadata": {},
   "outputs": [
    {
     "data": {
      "text/plain": [
       "<Figure size 864x504 with 0 Axes>"
      ]
     },
     "metadata": {},
     "output_type": "display_data"
    },
    {
     "data": {
      "image/png": "[encoded data removed]",
      "text/plain": [
       "<Figure size 864x504 with 1 Axes>"
      ]
     },
     "metadata": {
      "needs_background": "light"
     },
     "output_type": "display_data"
    }
   ],
   "source": [
    "# create a boxplot for user review\n",
    "plt.figure(figsize=(12, 7))\n",
    "other_platform.plot(x='user_score', y='total_sales', kind='scatter', figsize=(12, 7))\n",
    "plt.title('User Reviews For Games On Other Platforms', size=20)\n",
    "plt.xlabel('User Score', size=15)\n",
    "plt.ylabel('Total Sales in Million Dollars', size=15)\n",
    "plt.show()"
   ]
  },
  {
   "cell_type": "code",
   "execution_count": 28,
   "metadata": {},
   "outputs": [
    {
     "data": {
      "text/plain": [
       "'The correlation coefficient between professional review and sales is 0.41'"
      ]
     },
     "metadata": {},
     "output_type": "display_data"
    },
    {
     "data": {
      "text/plain": [
       "'The correlation coefficient between user review and sales is -0.03'"
      ]
     },
     "metadata": {},
     "output_type": "display_data"
    }
   ],
   "source": [
    "# calculate correlation between professional review and sales\n",
    "other_critic_corr = other_platform['critic_score'].corr(other_platform['total_sales'])\n",
    "display('The correlation coefficient between professional review and sales is {:.2f}'.format(critic_corr))\n",
    "\n",
    "# calculate correlation between user review and sales\n",
    "other_user_corr = other_platform['user_score'].corr(other_platform['total_sales'])\n",
    "display('The correlation coefficient between user review and sales is {:.2f}'.format(user_corr))"
   ]
  },
  {
   "cell_type": "markdown",
   "metadata": {},
   "source": [
    "**Conclusion**\n",
    "\n",
    "We decided to compare the sales of the games on PS4 platform with the sales of the same games on other platforms.  \n",
    "First, we make a slice from our dataset omitting the rows where the platform is PS4.\n",
    "\n",
    "We then continue by creating boxplot for `critical_score` and `total_sales`, and also for `user_score` and `total_sales`.\n",
    "\n",
    "We discovered that we have similar boxplots with the ones we have on PS4 platform, and also, the same correlation between `critic_score` and `total_sales` (0.41), and the same between `user_score` and `total_sales` (-0.03).\n",
    "\n",
    "With this, we can say that professional reviews have impact on sales on all platforms including PS4, but user reviews do not have impact on sales on platforms.\n",
    "\n",
    "[<a href=\"#Table-of-contents\">Back to top</a>]"
   ]
  },
  {
   "cell_type": "markdown",
   "metadata": {},
   "source": [
    "#### General distribution of games by genre"
   ]
  },
  {
   "cell_type": "code",
   "execution_count": 29,
   "metadata": {},
   "outputs": [
    {
     "data": {
      "text/html": [
       "<div>\n",
       "<style scoped>\n",
       "    .dataframe tbody tr th:only-of-type {\n",
       "        vertical-align: middle;\n",
       "    }\n",
       "\n",
       "    .dataframe tbody tr th {\n",
       "        vertical-align: top;\n",
       "    }\n",
       "\n",
       "    .dataframe thead th {\n",
       "        text-align: right;\n",
       "    }\n",
       "</style>\n",
       "<table border=\"1\" class=\"dataframe\">\n",
       "  <thead>\n",
       "    <tr style=\"text-align: right;\">\n",
       "      <th></th>\n",
       "      <th>genre</th>\n",
       "      <th>total_sales</th>\n",
       "    </tr>\n",
       "  </thead>\n",
       "  <tbody>\n",
       "    <tr>\n",
       "      <td>0</td>\n",
       "      <td>Action</td>\n",
       "      <td>322.50</td>\n",
       "    </tr>\n",
       "    <tr>\n",
       "      <td>8</td>\n",
       "      <td>Shooter</td>\n",
       "      <td>232.98</td>\n",
       "    </tr>\n",
       "    <tr>\n",
       "      <td>10</td>\n",
       "      <td>Sports</td>\n",
       "      <td>150.65</td>\n",
       "    </tr>\n",
       "    <tr>\n",
       "      <td>7</td>\n",
       "      <td>Role-Playing</td>\n",
       "      <td>146.15</td>\n",
       "    </tr>\n",
       "    <tr>\n",
       "      <td>3</td>\n",
       "      <td>Misc</td>\n",
       "      <td>63.06</td>\n",
       "    </tr>\n",
       "    <tr>\n",
       "      <td>4</td>\n",
       "      <td>Platform</td>\n",
       "      <td>42.63</td>\n",
       "    </tr>\n",
       "    <tr>\n",
       "      <td>6</td>\n",
       "      <td>Racing</td>\n",
       "      <td>39.89</td>\n",
       "    </tr>\n",
       "    <tr>\n",
       "      <td>2</td>\n",
       "      <td>Fighting</td>\n",
       "      <td>35.31</td>\n",
       "    </tr>\n",
       "    <tr>\n",
       "      <td>1</td>\n",
       "      <td>Adventure</td>\n",
       "      <td>23.64</td>\n",
       "    </tr>\n",
       "    <tr>\n",
       "      <td>9</td>\n",
       "      <td>Simulation</td>\n",
       "      <td>21.76</td>\n",
       "    </tr>\n",
       "    <tr>\n",
       "      <td>11</td>\n",
       "      <td>Strategy</td>\n",
       "      <td>10.08</td>\n",
       "    </tr>\n",
       "    <tr>\n",
       "      <td>5</td>\n",
       "      <td>Puzzle</td>\n",
       "      <td>3.17</td>\n",
       "    </tr>\n",
       "  </tbody>\n",
       "</table>\n",
       "</div>"
      ],
      "text/plain": [
       "           genre  total_sales\n",
       "0         Action       322.50\n",
       "8        Shooter       232.98\n",
       "10        Sports       150.65\n",
       "7   Role-Playing       146.15\n",
       "3           Misc        63.06\n",
       "4       Platform        42.63\n",
       "6         Racing        39.89\n",
       "2       Fighting        35.31\n",
       "1      Adventure        23.64\n",
       "9     Simulation        21.76\n",
       "11      Strategy        10.08\n",
       "5         Puzzle         3.17"
      ]
     },
     "metadata": {},
     "output_type": "display_data"
    }
   ],
   "source": [
    "# group genres with the total sum of the total sales\n",
    "genre_sales = (games_new.pivot_table(\n",
    "    index='genre', values='total_sales', aggfunc='sum')\n",
    "               .reset_index().sort_values(by='total_sales', ascending=False)\n",
    "    )\n",
    "\n",
    "display(genre_sales)"
   ]
  },
  {
   "cell_type": "code",
   "execution_count": 30,
   "metadata": {},
   "outputs": [
    {
     "data": {
      "image/png": "[encoded data removed]",
      "text/plain": [
       "<Figure size 1152x576 with 1 Axes>"
      ]
     },
     "metadata": {
      "needs_background": "light"
     },
     "output_type": "display_data"
    },
    {
     "data": {
      "text/plain": [
       "None"
      ]
     },
     "metadata": {},
     "output_type": "display_data"
    }
   ],
   "source": [
    "plt.figure(figsize=(16,8))\n",
    "sns.barplot(x = 'genre', y = 'total_sales', data = genre_sales)\n",
    "plt.title('Total Sales by Genre ', size=20)\n",
    "plt.xlabel('Genres', size=15)\n",
    "plt.ylabel('Total Sales', size=15)\n",
    "display(plt.show())"
   ]
  },
  {
   "cell_type": "markdown",
   "metadata": {},
   "source": [
    "**Conclusion**\n",
    "\n",
    "We can see that Action genre sells more than all other genres in the platform with the total sales of 963.44 million dollars from 2013 till 2016. This is followed by Shooter with a total sales of 611.46 million dollars. The least is Puzzle with a total sales of 56.30 million dollars.  \n",
    "Between the highest profitable genre, Action, and the least profitable genre, Puzzle, is a total margin of 907.14 million dollars worth of sales.\n",
    "\n",
    "[<a href=\"#Table-of-contents\">Back to top</a>]"
   ]
  },
  {
   "cell_type": "markdown",
   "metadata": {},
   "source": [
    "### Step 4. Create a user profile for each region"
   ]
  },
  {
   "cell_type": "code",
   "execution_count": 31,
   "metadata": {},
   "outputs": [
    {
     "data": {
      "text/html": [
       "<div>\n",
       "<style scoped>\n",
       "    .dataframe tbody tr th:only-of-type {\n",
       "        vertical-align: middle;\n",
       "    }\n",
       "\n",
       "    .dataframe tbody tr th {\n",
       "        vertical-align: top;\n",
       "    }\n",
       "\n",
       "    .dataframe thead th {\n",
       "        text-align: right;\n",
       "    }\n",
       "</style>\n",
       "<table border=\"1\" class=\"dataframe\">\n",
       "  <thead>\n",
       "    <tr style=\"text-align: right;\">\n",
       "      <th></th>\n",
       "      <th>platform</th>\n",
       "      <th>north_american_sales</th>\n",
       "      <th>europe_sales</th>\n",
       "      <th>japan_sales</th>\n",
       "    </tr>\n",
       "  </thead>\n",
       "  <tbody>\n",
       "    <tr>\n",
       "      <td>0</td>\n",
       "      <td>3DS</td>\n",
       "      <td>38.20</td>\n",
       "      <td>30.96</td>\n",
       "      <td>67.81</td>\n",
       "    </tr>\n",
       "    <tr>\n",
       "      <td>1</td>\n",
       "      <td>DS</td>\n",
       "      <td>0.57</td>\n",
       "      <td>0.85</td>\n",
       "      <td>0.00</td>\n",
       "    </tr>\n",
       "    <tr>\n",
       "      <td>2</td>\n",
       "      <td>PC</td>\n",
       "      <td>11.19</td>\n",
       "      <td>25.84</td>\n",
       "      <td>0.00</td>\n",
       "    </tr>\n",
       "    <tr>\n",
       "      <td>3</td>\n",
       "      <td>PS3</td>\n",
       "      <td>63.50</td>\n",
       "      <td>67.81</td>\n",
       "      <td>23.35</td>\n",
       "    </tr>\n",
       "    <tr>\n",
       "      <td>4</td>\n",
       "      <td>PS4</td>\n",
       "      <td>108.74</td>\n",
       "      <td>141.09</td>\n",
       "      <td>15.96</td>\n",
       "    </tr>\n",
       "    <tr>\n",
       "      <td>5</td>\n",
       "      <td>PSP</td>\n",
       "      <td>0.00</td>\n",
       "      <td>0.17</td>\n",
       "      <td>3.53</td>\n",
       "    </tr>\n",
       "    <tr>\n",
       "      <td>6</td>\n",
       "      <td>PSV</td>\n",
       "      <td>5.15</td>\n",
       "      <td>6.15</td>\n",
       "      <td>18.66</td>\n",
       "    </tr>\n",
       "    <tr>\n",
       "      <td>7</td>\n",
       "      <td>Wii</td>\n",
       "      <td>6.56</td>\n",
       "      <td>5.93</td>\n",
       "      <td>0.05</td>\n",
       "    </tr>\n",
       "    <tr>\n",
       "      <td>8</td>\n",
       "      <td>WiiU</td>\n",
       "      <td>29.21</td>\n",
       "      <td>19.85</td>\n",
       "      <td>10.88</td>\n",
       "    </tr>\n",
       "    <tr>\n",
       "      <td>9</td>\n",
       "      <td>X360</td>\n",
       "      <td>81.66</td>\n",
       "      <td>42.52</td>\n",
       "      <td>0.51</td>\n",
       "    </tr>\n",
       "    <tr>\n",
       "      <td>10</td>\n",
       "      <td>XOne</td>\n",
       "      <td>93.12</td>\n",
       "      <td>51.59</td>\n",
       "      <td>0.34</td>\n",
       "    </tr>\n",
       "  </tbody>\n",
       "</table>\n",
       "</div>"
      ],
      "text/plain": [
       "   platform  north_american_sales  europe_sales  japan_sales\n",
       "0       3DS                 38.20         30.96        67.81\n",
       "1        DS                  0.57          0.85         0.00\n",
       "2        PC                 11.19         25.84         0.00\n",
       "3       PS3                 63.50         67.81        23.35\n",
       "4       PS4                108.74        141.09        15.96\n",
       "5       PSP                  0.00          0.17         3.53\n",
       "6       PSV                  5.15          6.15        18.66\n",
       "7       Wii                  6.56          5.93         0.05\n",
       "8      WiiU                 29.21         19.85        10.88\n",
       "9      X360                 81.66         42.52         0.51\n",
       "10     XOne                 93.12         51.59         0.34"
      ]
     },
     "metadata": {},
     "output_type": "display_data"
    }
   ],
   "source": [
    "# group dataset by platform and sum sales\n",
    "region_platform = games_new.groupby('platform').sum()[['north_american_sales','europe_sales','japan_sales']]\n",
    "\n",
    "# change index to column\n",
    "region_platform.reset_index(level='platform', inplace=True)\n",
    "display(region_platform)"
   ]
  },
  {
   "cell_type": "markdown",
   "metadata": {},
   "source": [
    "So we decided to create a dataset for platforms sales of game in each region (North America, Europe, and Japan). "
   ]
  },
  {
   "cell_type": "markdown",
   "metadata": {},
   "source": [
    "#### Top 5 platforms in each region\n",
    "\n",
    "**North America**"
   ]
  },
  {
   "cell_type": "code",
   "execution_count": 32,
   "metadata": {},
   "outputs": [
    {
     "data": {
      "text/plain": [
       "'The top 5 platforms in North America are:'"
      ]
     },
     "metadata": {},
     "output_type": "display_data"
    },
    {
     "data": {
      "text/plain": [
       "4      PS4\n",
       "10    XOne\n",
       "9     X360\n",
       "3      PS3\n",
       "0      3DS\n",
       "Name: platform, dtype: object"
      ]
     },
     "metadata": {},
     "output_type": "display_data"
    }
   ],
   "source": [
    "# sort dataset in descending order \n",
    "top_na_platform = region_platform.sort_values(by='north_american_sales', ascending=False)\n",
    "\n",
    "# get the first five rows in the dataset\n",
    "top_na_platform = top_na_platform['platform'].head(5)\n",
    "\n",
    "display('The top 5 platforms in North America are:', top_na_platform)"
   ]
  },
  {
   "cell_type": "markdown",
   "metadata": {},
   "source": [
    "**Europe**"
   ]
  },
  {
   "cell_type": "code",
   "execution_count": 33,
   "metadata": {},
   "outputs": [
    {
     "data": {
      "text/plain": [
       "'The top 5 platforms in Europe are:'"
      ]
     },
     "metadata": {},
     "output_type": "display_data"
    },
    {
     "data": {
      "text/plain": [
       "4      PS4\n",
       "3      PS3\n",
       "10    XOne\n",
       "9     X360\n",
       "0      3DS\n",
       "Name: platform, dtype: object"
      ]
     },
     "metadata": {},
     "output_type": "display_data"
    }
   ],
   "source": [
    "# sort dataset in descending order\n",
    "top_eu_platform = region_platform.sort_values(by='europe_sales', ascending=False)\n",
    "region_platform\n",
    "# get the first five rows in the dataset\n",
    "top_eu_platform = top_eu_platform['platform'].head(5)\n",
    "\n",
    "display('The top 5 platforms in Europe are:', top_eu_platform)"
   ]
  },
  {
   "cell_type": "markdown",
   "metadata": {},
   "source": [
    "**Japan**"
   ]
  },
  {
   "cell_type": "code",
   "execution_count": 34,
   "metadata": {},
   "outputs": [
    {
     "data": {
      "text/plain": [
       "'The top 5 platforms in Japan are:'"
      ]
     },
     "metadata": {},
     "output_type": "display_data"
    },
    {
     "data": {
      "text/plain": [
       "4      PS4\n",
       "3      PS3\n",
       "10    XOne\n",
       "9     X360\n",
       "0      3DS\n",
       "Name: platform, dtype: object"
      ]
     },
     "metadata": {},
     "output_type": "display_data"
    }
   ],
   "source": [
    "# sort dataset in descending order\n",
    "top_jp_platform = region_platform.sort_values(by='japan_sales', ascending=False)\n",
    "\n",
    "# get the first five rows in the dataset\n",
    "top_jp_platform = top_jp_platform['platform'].head(5)\n",
    "\n",
    "display('The top 5 platforms in Japan are:', top_eu_platform)"
   ]
  },
  {
   "cell_type": "markdown",
   "metadata": {},
   "source": [
    "**Conclusion**\n",
    "\n",
    "We discovered that the same set of five platforms are sharing the spots for the top 5 platforms in different region. PS4 maintained the top spot (number 1 position) in each region, 3DS also maintained the fifth position in each, but PS3, XOne and X360 are swtching the second, third and forth positions.\n",
    "\n",
    "[<a href=\"#Table-of-contents\">Back to top</a>]"
   ]
  },
  {
   "cell_type": "markdown",
   "metadata": {},
   "source": [
    "#### Top 5 genre in each region\n",
    "\n",
    "**North America**"
   ]
  },
  {
   "cell_type": "code",
   "execution_count": 35,
   "metadata": {},
   "outputs": [
    {
     "data": {
      "text/html": [
       "<div>\n",
       "<style scoped>\n",
       "    .dataframe tbody tr th:only-of-type {\n",
       "        vertical-align: middle;\n",
       "    }\n",
       "\n",
       "    .dataframe tbody tr th {\n",
       "        vertical-align: top;\n",
       "    }\n",
       "\n",
       "    .dataframe thead th {\n",
       "        text-align: right;\n",
       "    }\n",
       "</style>\n",
       "<table border=\"1\" class=\"dataframe\">\n",
       "  <thead>\n",
       "    <tr style=\"text-align: right;\">\n",
       "      <th></th>\n",
       "      <th>genre</th>\n",
       "      <th>north_american_sales</th>\n",
       "      <th>europe_sales</th>\n",
       "      <th>japan_sales</th>\n",
       "    </tr>\n",
       "  </thead>\n",
       "  <tbody>\n",
       "    <tr>\n",
       "      <td>0</td>\n",
       "      <td>Action</td>\n",
       "      <td>126.13</td>\n",
       "      <td>118.61</td>\n",
       "      <td>40.49</td>\n",
       "    </tr>\n",
       "    <tr>\n",
       "      <td>1</td>\n",
       "      <td>Adventure</td>\n",
       "      <td>7.14</td>\n",
       "      <td>8.25</td>\n",
       "      <td>5.82</td>\n",
       "    </tr>\n",
       "    <tr>\n",
       "      <td>2</td>\n",
       "      <td>Fighting</td>\n",
       "      <td>15.55</td>\n",
       "      <td>8.55</td>\n",
       "      <td>7.65</td>\n",
       "    </tr>\n",
       "    <tr>\n",
       "      <td>3</td>\n",
       "      <td>Misc</td>\n",
       "      <td>27.49</td>\n",
       "      <td>20.04</td>\n",
       "      <td>9.44</td>\n",
       "    </tr>\n",
       "    <tr>\n",
       "      <td>4</td>\n",
       "      <td>Platform</td>\n",
       "      <td>18.14</td>\n",
       "      <td>15.58</td>\n",
       "      <td>4.79</td>\n",
       "    </tr>\n",
       "    <tr>\n",
       "      <td>5</td>\n",
       "      <td>Puzzle</td>\n",
       "      <td>0.83</td>\n",
       "      <td>1.00</td>\n",
       "      <td>1.18</td>\n",
       "    </tr>\n",
       "    <tr>\n",
       "      <td>6</td>\n",
       "      <td>Racing</td>\n",
       "      <td>12.96</td>\n",
       "      <td>20.19</td>\n",
       "      <td>2.30</td>\n",
       "    </tr>\n",
       "    <tr>\n",
       "      <td>7</td>\n",
       "      <td>Role-Playing</td>\n",
       "      <td>46.51</td>\n",
       "      <td>37.02</td>\n",
       "      <td>51.11</td>\n",
       "    </tr>\n",
       "    <tr>\n",
       "      <td>8</td>\n",
       "      <td>Shooter</td>\n",
       "      <td>109.74</td>\n",
       "      <td>87.86</td>\n",
       "      <td>6.61</td>\n",
       "    </tr>\n",
       "    <tr>\n",
       "      <td>9</td>\n",
       "      <td>Simulation</td>\n",
       "      <td>4.86</td>\n",
       "      <td>10.92</td>\n",
       "      <td>4.52</td>\n",
       "    </tr>\n",
       "    <tr>\n",
       "      <td>10</td>\n",
       "      <td>Sports</td>\n",
       "      <td>65.27</td>\n",
       "      <td>60.52</td>\n",
       "      <td>5.41</td>\n",
       "    </tr>\n",
       "    <tr>\n",
       "      <td>11</td>\n",
       "      <td>Strategy</td>\n",
       "      <td>3.28</td>\n",
       "      <td>4.22</td>\n",
       "      <td>1.77</td>\n",
       "    </tr>\n",
       "  </tbody>\n",
       "</table>\n",
       "</div>"
      ],
      "text/plain": [
       "           genre  north_american_sales  europe_sales  japan_sales\n",
       "0         Action                126.13        118.61        40.49\n",
       "1      Adventure                  7.14          8.25         5.82\n",
       "2       Fighting                 15.55          8.55         7.65\n",
       "3           Misc                 27.49         20.04         9.44\n",
       "4       Platform                 18.14         15.58         4.79\n",
       "5         Puzzle                  0.83          1.00         1.18\n",
       "6         Racing                 12.96         20.19         2.30\n",
       "7   Role-Playing                 46.51         37.02        51.11\n",
       "8        Shooter                109.74         87.86         6.61\n",
       "9     Simulation                  4.86         10.92         4.52\n",
       "10        Sports                 65.27         60.52         5.41\n",
       "11      Strategy                  3.28          4.22         1.77"
      ]
     },
     "metadata": {},
     "output_type": "display_data"
    },
    {
     "data": {
      "text/plain": [
       "'The top 5 genre in North America are:'"
      ]
     },
     "metadata": {},
     "output_type": "display_data"
    },
    {
     "data": {
      "text/plain": [
       "0           Action\n",
       "8          Shooter\n",
       "10          Sports\n",
       "7     Role-Playing\n",
       "3             Misc\n",
       "Name: genre, dtype: object"
      ]
     },
     "metadata": {},
     "output_type": "display_data"
    }
   ],
   "source": [
    "# group dataset by platform and sum sales\n",
    "region_genre = games_new.groupby('genre').sum()[['north_american_sales','europe_sales','japan_sales']]\n",
    "\n",
    "# change index to column\n",
    "region_genre.reset_index(level='genre', inplace=True)\n",
    "display(region_genre)\n",
    "\n",
    "# sort dataset in descending order\n",
    "top_na_genre = region_genre.sort_values(by='north_american_sales', ascending=False)\n",
    "\n",
    "# get the first five rows in the dataset\n",
    "top_na_genre = top_na_genre['genre'].head(5)\n",
    "\n",
    "display('The top 5 genre in North America are:', top_na_genre)"
   ]
  },
  {
   "cell_type": "markdown",
   "metadata": {},
   "source": [
    "**Europe**"
   ]
  },
  {
   "cell_type": "code",
   "execution_count": 36,
   "metadata": {},
   "outputs": [
    {
     "data": {
      "text/plain": [
       "'The top 5 genre in Europe are:'"
      ]
     },
     "metadata": {},
     "output_type": "display_data"
    },
    {
     "data": {
      "text/plain": [
       "0           Action\n",
       "8          Shooter\n",
       "10          Sports\n",
       "7     Role-Playing\n",
       "6           Racing\n",
       "Name: genre, dtype: object"
      ]
     },
     "metadata": {},
     "output_type": "display_data"
    }
   ],
   "source": [
    "# sort dataset in descending order\n",
    "top_eu_genre = region_genre.sort_values(by='europe_sales', ascending=False)\n",
    "\n",
    "# get the first five rows in the dataset\n",
    "top_eu_genre = top_eu_genre['genre'].head(5)\n",
    "\n",
    "display('The top 5 genre in Europe are:', top_eu_genre)"
   ]
  },
  {
   "cell_type": "markdown",
   "metadata": {},
   "source": [
    "**Japan**"
   ]
  },
  {
   "cell_type": "code",
   "execution_count": 37,
   "metadata": {},
   "outputs": [
    {
     "data": {
      "text/plain": [
       "'The top 5 genre in Europe are:'"
      ]
     },
     "metadata": {},
     "output_type": "display_data"
    },
    {
     "data": {
      "text/plain": [
       "7    Role-Playing\n",
       "0          Action\n",
       "3            Misc\n",
       "2        Fighting\n",
       "8         Shooter\n",
       "Name: genre, dtype: object"
      ]
     },
     "metadata": {},
     "output_type": "display_data"
    }
   ],
   "source": [
    "# sort dataset in descending order\n",
    "top_jp_genre = region_genre.sort_values(by='japan_sales', ascending=False)\n",
    "\n",
    "# get the first five rows in the dataset\n",
    "top_jp_genre = top_jp_genre['genre'].head(5)\n",
    "\n",
    "display('The top 5 genre in Europe are:', top_jp_genre)"
   ]
  },
  {
   "cell_type": "markdown",
   "metadata": {},
   "source": [
    "**Conclusion**\n",
    "\n",
    "We discovered that three genres are common in the top 5 rankings for genre of games in each region. These three genres are Action, Shooter, and Role-Playing. Action genre topped the list in North America and Europe, while Role-Playing topped in Japan.\n",
    "\n",
    "[<a href=\"#Table-of-contents\">Back to top</a>]"
   ]
  },
  {
   "cell_type": "markdown",
   "metadata": {},
   "source": [
    "#### Do ESRB ratings affect sales in individual regions?"
   ]
  },
  {
   "cell_type": "code",
   "execution_count": 38,
   "metadata": {},
   "outputs": [
    {
     "data": {
      "text/html": [
       "<div>\n",
       "<style scoped>\n",
       "    .dataframe tbody tr th:only-of-type {\n",
       "        vertical-align: middle;\n",
       "    }\n",
       "\n",
       "    .dataframe tbody tr th {\n",
       "        vertical-align: top;\n",
       "    }\n",
       "\n",
       "    .dataframe thead th {\n",
       "        text-align: right;\n",
       "    }\n",
       "</style>\n",
       "<table border=\"1\" class=\"dataframe\">\n",
       "  <thead>\n",
       "    <tr style=\"text-align: right;\">\n",
       "      <th></th>\n",
       "      <th>esrb_rating</th>\n",
       "      <th>north_american_sales</th>\n",
       "      <th>europe_sales</th>\n",
       "      <th>japan_sales</th>\n",
       "    </tr>\n",
       "  </thead>\n",
       "  <tbody>\n",
       "    <tr>\n",
       "      <td>0</td>\n",
       "      <td>E</td>\n",
       "      <td>79.05</td>\n",
       "      <td>83.36</td>\n",
       "      <td>15.14</td>\n",
       "    </tr>\n",
       "    <tr>\n",
       "      <td>1</td>\n",
       "      <td>E10+</td>\n",
       "      <td>54.24</td>\n",
       "      <td>42.69</td>\n",
       "      <td>5.89</td>\n",
       "    </tr>\n",
       "    <tr>\n",
       "      <td>2</td>\n",
       "      <td>M</td>\n",
       "      <td>165.29</td>\n",
       "      <td>145.80</td>\n",
       "      <td>14.11</td>\n",
       "    </tr>\n",
       "    <tr>\n",
       "      <td>3</td>\n",
       "      <td>T</td>\n",
       "      <td>49.90</td>\n",
       "      <td>42.00</td>\n",
       "      <td>20.66</td>\n",
       "    </tr>\n",
       "    <tr>\n",
       "      <td>4</td>\n",
       "      <td>undefined</td>\n",
       "      <td>89.42</td>\n",
       "      <td>78.91</td>\n",
       "      <td>85.29</td>\n",
       "    </tr>\n",
       "  </tbody>\n",
       "</table>\n",
       "</div>"
      ],
      "text/plain": [
       "  esrb_rating  north_american_sales  europe_sales  japan_sales\n",
       "0           E                 79.05         83.36        15.14\n",
       "1        E10+                 54.24         42.69         5.89\n",
       "2           M                165.29        145.80        14.11\n",
       "3           T                 49.90         42.00        20.66\n",
       "4   undefined                 89.42         78.91        85.29"
      ]
     },
     "metadata": {},
     "output_type": "display_data"
    }
   ],
   "source": [
    "# group dataset by esrb rating and sum the sales by regions\n",
    "rating_region_sales = (games_new.groupby('esrb_rating')\n",
    "                       [['north_american_sales', 'europe_sales', 'japan_sales']]\n",
    "                       .sum().reset_index())\n",
    "\n",
    "# \n",
    "display(rating_region_sales)"
   ]
  },
  {
   "cell_type": "markdown",
   "metadata": {},
   "source": [
    "**North America Sales**"
   ]
  },
  {
   "cell_type": "code",
   "execution_count": 39,
   "metadata": {},
   "outputs": [
    {
     "data": {
      "image/png": "[encoded data removed]",
      "text/plain": [
       "<Figure size 432x288 with 1 Axes>"
      ]
     },
     "metadata": {
      "needs_background": "light"
     },
     "output_type": "display_data"
    }
   ],
   "source": [
    "# plot a bar chart for rating and NA region\n",
    "plt.bar(rating_region_sales['esrb_rating'], rating_region_sales['north_american_sales'])\n",
    "plt.title('ESRB Rating in North America ', size=20)\n",
    "plt.xlabel('ESRB Rating', size=15)\n",
    "plt.ylabel('Total Sales', size=15)\n",
    "plt.show()"
   ]
  },
  {
   "cell_type": "markdown",
   "metadata": {},
   "source": [
    "**Conclusion**\n",
    "\n",
    "We can see that games with M (mature) rating has the highest sales with over 160 million dollars sales. Next to it is games with undefined rating with over 80 million dollars sales, E (everyone) with about 80 million dollars sales, and last on the list are E10+ (everyone 10+) and T (teen), both with about 50 million dollars sales each. We can say that adullts is the population that play game the most in North America.\n",
    "\n",
    "[<a href=\"#Table-of-contents\">Back to top</a>]"
   ]
  },
  {
   "cell_type": "markdown",
   "metadata": {},
   "source": [
    "**Europe Sales**"
   ]
  },
  {
   "cell_type": "code",
   "execution_count": 40,
   "metadata": {},
   "outputs": [
    {
     "data": {
      "image/png": "[encoded data removed]",
      "text/plain": [
       "<Figure size 432x288 with 1 Axes>"
      ]
     },
     "metadata": {
      "needs_background": "light"
     },
     "output_type": "display_data"
    }
   ],
   "source": [
    "plt.bar(rating_region_sales['esrb_rating'], rating_region_sales['europe_sales'])\n",
    "plt.title('ESRB Rating in Europe', size=20)\n",
    "plt.xlabel('ESRB Rating', size=15)\n",
    "plt.ylabel('Total Sales', size=15)\n",
    "plt.show()"
   ]
  },
  {
   "cell_type": "markdown",
   "metadata": {},
   "source": [
    "**Conclusion**\n",
    "\n",
    "We can see that M (mature) rating has the highest sales with about 140 million dollars sales of games. Next to that is E (everyone) rating with over 80 million dollars of sales, followed by games with undefined rating, and last on the list are both T (teen) and E10+ (everyone 10+) with 40 million dollars sales each. We can say that the adults are the population that play games the most in Europe.\n",
    "\n",
    "[<a href=\"#Table-of-contents\">Back to top</a>]"
   ]
  },
  {
   "cell_type": "markdown",
   "metadata": {},
   "source": [
    "**Japan Sales**"
   ]
  },
  {
   "cell_type": "code",
   "execution_count": 41,
   "metadata": {},
   "outputs": [
    {
     "data": {
      "image/png": "[encoded data removed]",
      "text/plain": [
       "<Figure size 432x288 with 1 Axes>"
      ]
     },
     "metadata": {
      "needs_background": "light"
     },
     "output_type": "display_data"
    }
   ],
   "source": [
    "plt.bar(rating_region_sales['esrb_rating'], rating_region_sales['japan_sales'])\n",
    "plt.title('ESRB Rating in Japan', size=20)\n",
    "plt.xlabel('ESRB Rating', size=15)\n",
    "plt.ylabel('Total Sales', size=15)\n",
    "plt.show()"
   ]
  },
  {
   "cell_type": "markdown",
   "metadata": {},
   "source": [
    "**Conclusion**\n",
    "\n",
    "We can see that games with undefined rating has the highest sales with over 80 million dollars sales, E (everyone) comes next with over 20 million dollars sales,  and M (mature) both have sales lesser than 20 million dollars, and E10+ (everyone 10+) rated games having less than 10 million dollars sales. We could say that majority of the games played in Japan do not have ESRB rating.  \n",
    "\n",
    "\n",
    "[<a href=\"#Table-of-content\">Back to top</a>]"
   ]
  },
  {
   "cell_type": "markdown",
   "metadata": {},
   "source": [
    "### Step 5. Test the following hypotheses\n",
    "\n",
    "#### Average user ratings of the Xbox One and PC platforms are the same"
   ]
  },
  {
   "cell_type": "code",
   "execution_count": 42,
   "metadata": {},
   "outputs": [
    {
     "data": {
      "text/plain": [
       "'The population size of games on Xbox One platform is 182'"
      ]
     },
     "metadata": {},
     "output_type": "display_data"
    }
   ],
   "source": [
    "# Slicing the good data for platform with values 'XOne'\n",
    "xbox_one = games_new.query('platform == \"XOne\"')\n",
    "\n",
    "# Removing the 'unknown' in 'user_score' of the slice\n",
    "xbox_one = xbox_one.query('user_score != [\"unknown\", \"tbd\"]')\n",
    "\n",
    "#changing the user score data type from object to float\n",
    "xbox_one.loc[:, 'user_score'] = xbox_one['user_score'].astype(float)\n",
    "\n",
    "# Taking the list of the user_score\n",
    "xbox_one_user_list = xbox_one['user_score'].tolist()\n",
    "\n",
    "# statistical population size\n",
    "display('The population size of games on Xbox One platform is {}'.format(len(xbox_one_user_list)))\n"
   ]
  },
  {
   "cell_type": "code",
   "execution_count": 43,
   "metadata": {},
   "outputs": [
    {
     "data": {
      "text/plain": [
       "'The population size of games on PC platform is 158'"
      ]
     },
     "metadata": {},
     "output_type": "display_data"
    }
   ],
   "source": [
    "# Slicing the good data for platform with values 'PC'\n",
    "pc = games_new.query('platform == \"PC\"')\n",
    "\n",
    "# Removing the 'unknown' in 'user_score' of the slice\n",
    "pc = pc.query('user_score != [\"unknown\", \"tbd\"]')\n",
    "\n",
    "#changing the user score data type from object to float\n",
    "pc.loc[:, 'user_score'] = pc['user_score'].astype(float)\n",
    "\n",
    "# Taking the list of the user_score\n",
    "pc_user_list = pc['user_score'].tolist()\n",
    "display('The population size of games on PC platform is {}'.format(len(pc_user_list)))\n"
   ]
  },
  {
   "cell_type": "markdown",
   "metadata": {},
   "source": [
    "**Normality Test**"
   ]
  },
  {
   "cell_type": "code",
   "execution_count": 44,
   "metadata": {},
   "outputs": [
    {
     "data": {
      "text/plain": [
       "'The p-value for Shapiro Test on Xbox One is 1.524856543255737e-05'"
      ]
     },
     "metadata": {},
     "output_type": "display_data"
    },
    {
     "data": {
      "text/plain": [
       "'The data on Xbox One significantly deviate from a normal distribution'"
      ]
     },
     "metadata": {},
     "output_type": "display_data"
    },
    {
     "data": {
      "text/plain": [
       "'The p-value for Shapiro Test on PC is 5.416122803580947e-06'"
      ]
     },
     "metadata": {},
     "output_type": "display_data"
    },
    {
     "data": {
      "text/plain": [
       "'The data on PC significantly deviate from a normal distribution'"
      ]
     },
     "metadata": {},
     "output_type": "display_data"
    }
   ],
   "source": [
    "\n",
    "alpha = 0.05 # critical statistical significance level\n",
    "\n",
    "# check for normality of populations\n",
    "xbox_shapiro_test = st.shapiro(xbox_one_user_list)\n",
    "display(\"The p-value for Shapiro Test on Xbox One is {}\".format(xbox_shapiro_test[1]))\n",
    "\n",
    "\n",
    "xbox_shapiro_pvalue = 1.524856543255737e-05\n",
    "\n",
    "if (xbox_shapiro_pvalue < alpha):\n",
    "    display('The data on Xbox One significantly deviate from a normal distribution')\n",
    "else:\n",
    "    display('The data on Xbox One is normally distributed')\n",
    "    \n",
    "    \n",
    "# check for normality of populations\n",
    "pc_shapiro_test = st.shapiro(pc_user_list)\n",
    "display(\"The p-value for Shapiro Test on PC is {}\".format(pc_shapiro_test[1]))\n",
    "\n",
    "pc_shapiro_pvalue = 5.416122803580947e-06\n",
    "\n",
    "if (pc_shapiro_pvalue < alpha):\n",
    "    display('The data on PC significantly deviate from a normal distribution')\n",
    "else:\n",
    "    display('The data on PC is normally distributed')"
   ]
  },
  {
   "cell_type": "markdown",
   "metadata": {},
   "source": [
    "Hello Irina,\n",
    "\n",
    "I can not seem figure out what the problem is whenever I try to get the pvalue for Shapiro Test. If I run `pc_shapiro_test.pvalue`, I get the following error in return:\n",
    "\n",
    "AttributeError: 'tuple' object has no attribute 'pvalue'"
   ]
  },
  {
   "cell_type": "markdown",
   "metadata": {},
   "source": [
    "**Test for equality of variance**"
   ]
  },
  {
   "cell_type": "code",
   "execution_count": 45,
   "metadata": {},
   "outputs": [
    {
     "data": {
      "text/plain": [
       "0.0008493003748626767"
      ]
     },
     "metadata": {},
     "output_type": "display_data"
    },
    {
     "data": {
      "text/plain": [
       "'The populations do not have equal variance'"
      ]
     },
     "metadata": {},
     "output_type": "display_data"
    }
   ],
   "source": [
    "# check the equality of variance of the populations\n",
    "var_test = st.levene(xbox_one_user_list, pc_user_list, center='mean')\n",
    "display(var_test.pvalue)\n",
    "\n",
    "\n",
    "if (var_test.pvalue < alpha):\n",
    "    display(\"The populations do not have equal variance\")\n",
    "else:\n",
    "    display('The populations do have equal variance')"
   ]
  },
  {
   "cell_type": "markdown",
   "metadata": {},
   "source": [
    "**Hypothesis Test**"
   ]
  },
  {
   "cell_type": "code",
   "execution_count": 46,
   "metadata": {},
   "outputs": [
    {
     "data": {
      "text/plain": [
       "'p-value: 0.16174359801784308'"
      ]
     },
     "metadata": {},
     "output_type": "display_data"
    },
    {
     "data": {
      "text/plain": [
       "\"We can't reject the null hypothesis\""
      ]
     },
     "metadata": {},
     "output_type": "display_data"
    }
   ],
   "source": [
    "# Testing hypothesis\n",
    "results = st.ttest_ind(xbox_one_user_list, pc_user_list, equal_var=False)\n",
    "\n",
    "display('p-value: {}'.format(results.pvalue))\n",
    "\n",
    "if (results.pvalue < alpha):\n",
    "        display('We reject the null hypothesis')\n",
    "else:\n",
    "        display(\"We can't reject the null hypothesis\")"
   ]
  },
  {
   "cell_type": "markdown",
   "metadata": {},
   "source": [
    "**Conclusion** \n",
    "\n",
    "To determine if the average users ratings of the Xbox One and PC platforms are the same, it is not sufficient for us to simply compare the average values of the user ratings of each platform. We need to carry out a correct test to determine if the average ratings are the same.\n",
    "\n",
    "First, we will formulate our null hypothesis and alternative hypothesis. Since our goal is to determine if the average user ratings of the Xbox One and PC are the same, meaning that the means of user ratings of the two platforms are either equal or not equal, our null hypothesis will be stated with an equal sign, and alternative hypothesis will be stated with not equal sign.\n",
    "\n",
    "H₀: Average user ratings of the Xbox One platform = Average user ratings of the PC platform  \n",
    "H₁: Average user ratings of the Xbox One platform ≠ Average user ratings of the PC platform\n",
    "\n",
    "We will be using the t-test of since we want to test our hypothesis that means of the two statistical populations are equal based on samples taken from them, and the alternative hypothesis is two-sided, that is bilateral. We will be applying the method `scipy.stats.ttest_ind(array1, array2, equal_var)`.\n",
    "\n",
    "We will determine the size of the two populations (user ratings of Xbox One platform and user ratings from PC platform). The population size of user ratings from Xbox One platform is 182, and the poplation size of user ratings of PC genre is 158.\n",
    "\n",
    "We decided to check if the two populations are normally distributed in order for us determine the test to be used in checking the equality of variance by carrying out `Shapiro-Wilk Test`. Our result showed that the two populations are not normally distributed, which made us carry out the `Levene's Test` to compare the variances of the two populations so that we can be sure whether to estimate the variance of each sample as a combined data set or separately.\n",
    "\n",
    "We set our significance level `(alpha)` to 0.05, which indicates a 5% risk of concluding that a difference exists when there is no actual difference. Lower significance levels indicate that we require stronger evidence before we reject or do not reject the null hypothesis.\n",
    "\n",
    "After carrying out the test, we have a p-value of 0.16174359801784308. Since the p-value is greater than our significance level, we can not reject our null hypothesis. Our analysis suggests that the user ratings of Xbox One platform are the same with the user ratings of PC platform, that is, the user ratings for the two platforms do not differ. This means that users enjoy playing games on one platform same as they enjoy playing on the other platform.\n",
    "\n",
    "[<a href=\"#Table-of-content\">Back to top</a>] "
   ]
  },
  {
   "cell_type": "markdown",
   "metadata": {},
   "source": [
    "#### Average user ratings for the Action and Sports genres are different"
   ]
  },
  {
   "cell_type": "code",
   "execution_count": 47,
   "metadata": {},
   "outputs": [
    {
     "data": {
      "text/plain": [
       "'The population size of Action genre is 392'"
      ]
     },
     "metadata": {},
     "output_type": "display_data"
    }
   ],
   "source": [
    "# Slicing the good data for genre with values 'Action'\n",
    "action = games_new.query('genre == \"Action\"')\n",
    "\n",
    "# Removing the 'unknown' in 'user_score' of the slice\n",
    "action = action.query('user_score != [\"unknown\", \"tbd\"]')\n",
    "\n",
    "#changing the user score data type from object to float\n",
    "action.loc[:, 'user_score'] = action['user_score'].astype(float)\n",
    "\n",
    "# Taking the list of the user_score\n",
    "action_list = action['user_score'].tolist()\n",
    "display('The population size of Action genre is {}'.format(len(action_list)))\n"
   ]
  },
  {
   "cell_type": "code",
   "execution_count": 48,
   "metadata": {},
   "outputs": [
    {
     "data": {
      "text/plain": [
       "'The population size of Sport genre is 160'"
      ]
     },
     "metadata": {},
     "output_type": "display_data"
    }
   ],
   "source": [
    "# Slicing the good data for genre with values 'Sports'\n",
    "sports = games_new.query('genre == \"Sports\"')\n",
    "\n",
    "# Removing the 'unknown' in 'user_score' of the slice\n",
    "sports = sports.query('user_score != [\"unknown\", \"tbd\"]')\n",
    "\n",
    "# changing the user score data type from object to float\n",
    "sports.loc[:, 'user_score'] = sports['user_score'].astype(float)\n",
    "\n",
    "# Taking the list of the user_score\n",
    "sports_list = sports['user_score'].tolist()\n",
    "display('The population size of Sport genre is {}'.format(len(sports_list)))\n"
   ]
  },
  {
   "cell_type": "markdown",
   "metadata": {},
   "source": [
    "**Normality Test**"
   ]
  },
  {
   "cell_type": "code",
   "execution_count": 49,
   "metadata": {},
   "outputs": [
    {
     "data": {
      "text/plain": [
       "'The p-value for Shapiro Test on Action genre is 1.3770211235381372e-14'"
      ]
     },
     "metadata": {},
     "output_type": "display_data"
    },
    {
     "data": {
      "text/plain": [
       "'The data on Action genre significantly deviate from a normal distribution'"
      ]
     },
     "metadata": {},
     "output_type": "display_data"
    },
    {
     "data": {
      "text/plain": [
       "'The p-value for Shapiro Test on Sport genre is 0.03234051540493965'"
      ]
     },
     "metadata": {},
     "output_type": "display_data"
    },
    {
     "data": {
      "text/plain": [
       "'The data on Sport genre significantly deviate from a normal distribution'"
      ]
     },
     "metadata": {},
     "output_type": "display_data"
    }
   ],
   "source": [
    "alpha = 0.05 # critical statistical significance level\n",
    "\n",
    "# check for normality of populations\n",
    "action_shapiro_test = st.shapiro(action_list)\n",
    "display(\"The p-value for Shapiro Test on Action genre is {}\".format(action_shapiro_test[1]))\n",
    "\n",
    "\n",
    "action_shapiro_pvalue = 1.3770211235381372e-14\n",
    "\n",
    "if (action_shapiro_pvalue < alpha):\n",
    "    display('The data on Action genre significantly deviate from a normal distribution')\n",
    "else:\n",
    "    display('The data on Action genre is normally distributed')\n",
    "    \n",
    "    \n",
    "# check for normality of populations\n",
    "sports_shapiro_test = st.shapiro(sports_list)\n",
    "display(\"The p-value for Shapiro Test on Sport genre is {}\".format(sports_shapiro_test[1]))\n",
    "\n",
    "sport_shapiro_pvalue = 0.03234051540493965\n",
    "\n",
    "if (sport_shapiro_pvalue < alpha):\n",
    "    display('The data on Sport genre significantly deviate from a normal distribution')\n",
    "else:\n",
    "    display('The data on Sport genre is normally distributed')"
   ]
  },
  {
   "cell_type": "markdown",
   "metadata": {},
   "source": [
    "**Test for equality of variance**"
   ]
  },
  {
   "cell_type": "code",
   "execution_count": 50,
   "metadata": {},
   "outputs": [
    {
     "data": {
      "text/plain": [
       "1.165143477411694e-07"
      ]
     },
     "metadata": {},
     "output_type": "display_data"
    },
    {
     "data": {
      "text/plain": [
       "'The populations do not have equal variance'"
      ]
     },
     "metadata": {},
     "output_type": "display_data"
    }
   ],
   "source": [
    "# check the equality of variance of the populations\n",
    "var_test2 = st.levene(action_list, sports_list, center='mean')\n",
    "display(var_test2.pvalue)\n",
    "\n",
    "\n",
    "if (var_test2.pvalue < alpha):\n",
    "    display(\"The populations do not have equal variance\")\n",
    "else:\n",
    "    display('The populations do have equal variance')"
   ]
  },
  {
   "cell_type": "markdown",
   "metadata": {},
   "source": [
    "**Hypothesis Test**"
   ]
  },
  {
   "cell_type": "code",
   "execution_count": 51,
   "metadata": {},
   "outputs": [
    {
     "name": "stdout",
     "output_type": "stream",
     "text": [
      "p-value: 1.3883444596405356e-20\n",
      "We reject the null hypothesis\n"
     ]
    }
   ],
   "source": [
    "# Testing hypothesis\n",
    "alpha = 0.05 # critical statistical significance level\n",
    "\n",
    "results = st.ttest_ind(sports_list, action_list, equal_var=False)\n",
    "\n",
    "print('p-value: {}'.format(results.pvalue))\n",
    "\n",
    "if (results.pvalue < alpha):\n",
    "        print(\"We reject the null hypothesis\")\n",
    "else:\n",
    "        print(\"We can't reject the null hypothesis\")"
   ]
  },
  {
   "cell_type": "markdown",
   "metadata": {},
   "source": [
    "**Conclusion**\n",
    "\n",
    "To determine if the average users ratings for the Action and Sports genres differs, it is not sufficient for us to simply compare the average values of the user ratings for each genre. We need to carry out a correct test to determine if the average ratings differ.\n",
    "\n",
    "First, we will formulate our null hypothesis and alternative hypothesis. Since our goal is to determine if the average user ratings for the Action and Sports differ, meaning that the means of user ratings of the two genres are either equal or not equal, our null hypothesis will be stated with an equal sign, and alternative hypothesis will be stated with not equal sign.\n",
    "\n",
    "H₀: Average user ratings for the Action genre = Average user ratings for the Sports genre  \n",
    "H₁: Average user ratings for the Action genre ≠ Average user ratings for the Sports genre\n",
    "\n",
    "We will be using the t-test of since we want to test our hypothesis that means of the two statistical populations are equal based on samples taken from them, and the alternative hypothesis is two-sided, that is bilateral. We will be applying the method `scipy.stats.ttest_ind(array1, array2, equal_var)`.\n",
    "\n",
    "We will determine the size of the two populations (user ratings from Action genre and user ratings from Sports genre). The population size of user ratings from Action genre is 392, and the poplation size of user ratings from Sports genre is 160.\n",
    "\n",
    "We decided to check if the two populations are normally distributed in order for us determine the test to be used in checking the equality of variance by carrying out `Shapiro-Wilk Test`. Our result showed that the two populations are not normally distributed, which made us carry out the `Levene's Test` to compare the variances of the two populations so that we can be sure whether to estimate the variance of each sample as a combined data set or separately.\n",
    "\n",
    "We set our significance level (alpha) to 0.05, which indicates a 5% risk of concluding that a difference exists when there is no actual difference. Lower significance levels indicate that we require stronger evidence before we reject or do not reject the null hypothesis.\n",
    "\n",
    "After carrying out the test, we have a p-value of 1.3883444596405356e-20. Since the p-value is lesser than our significance level, we reject our null hypothesis. Our analysis suggests that the user ratings from Action and Sports genres differs, meaning users enjoy playing one genre than the other.\n"
   ]
  },
  {
   "cell_type": "markdown",
   "metadata": {},
   "source": [
    "### Step 6. Write a general conclusion"
   ]
  },
  {
   "cell_type": "markdown",
   "metadata": {},
   "source": [
    "During our analysis, we discovered that there are some missing values in our dataset which are left as unknown and to be determined. We are provided with data for that ratings and sales of games in different regions. We decided to to add the sales of these regions to get global sales which will play a big part in our analysis.\n",
    "\n",
    "According to our dataset, we discovered that more games were released during the period of 2000 to 2009, and very few were released during the 80s. \n",
    "\n",
    "We discovered that four platforms (TG16, 3DO, GG, and PCFX) made less than a million dollar sales globally and only six platforms made over 600 millions dollar sales globally (PS2, X360, PS3, Wii, D5, PS), and the rest made less than 400 millions dollar sales. The platform with the highest sales globally was PS2, making over 1200 millions dollar sales.\n",
    "\n",
    "We discovered that generally, it took the old platforms like PS and PS2 10 years to fade away and it took a year for new platforms to appear.\n",
    "\n",
    "We decided to pick 2013 as the year to take data from so that we will be able to build a prognosis for the year 2017, considering 3 years sufficient to study and make prediction for sales. We started working with data from this year by ignoring the previous years.\n",
    "\n",
    "The top five platforms that are leading in sales from 2013 to 2015 are PS4, PS3, XOne, 3DS and X360, with PS4 having the highest sales globally of over 300 million dollars. \n",
    "\n",
    "`Grand Theft Auto V` is the game with highest sales globally with 21.05 million dollars sales. We discovered that the differences in sales varies from platform to platform, meaning the differences is significant.\n",
    "\n",
    "We considered PS4 to be the most popular platform because it has the highest average sales of all platforms from 2013 till 2016. We discovered that professional reviews did have impact on the sales on PS4 and other platforms, but user reviews did not have impact on the sales on PS4 and other platforms.\n",
    "\n",
    "We discovered that Action genre sells more than all other genres in the PS4 platform with the total sales of 963.44 million dollars from 2013 till 2016. This is followed by Shooter with a total sales of 611.46 million dollars. The least is Puzzle with a total sales of 56.30 million dollars.\n",
    "\n",
    "Putting Northern America, Europe and Japan into consideration, we discovered that the same set of five platforms are sharing the spots for the top 5 platforms in different region with PS4 being on the top spot (number 1 position) in each region. 3DS also maintained the fifth position in each, but PS3, XOne and X360 are swtching the second, third and forth positions.\n",
    "\n",
    "We also discovered that three genres are common in the top 5 rankings for genre of games in each region. These three genres are Action, Shooter, and Role-Playing. Action genre topped the list in North America and Europe, while Role-Playing topped in Japan.\n",
    "\n",
    "Games with M (mature) rating has the highest sales in Nort America and Europe, with over 160 million dollars sales and 140 million dollars sales respectively. Games without the esrb rating have the highest sales of games in Japan with over 80 million dollars sales.\n",
    "\n",
    "After carrying out hypothesis test to determine if the average users ratings of the Xbox One and PC platforms are the same, we we could not reject our null hypothesis meaning that the user ratings of Xbox One platform are the same with the user ratings of PC platform, that is, the user ratings for the two platforms do not differ. This means that users enjoy playing games on one platform same as they enjoy playing on the other platform.\n",
    "\n",
    "We also carried out test to determine if the average users ratings for the Action and Sports genres differs and we rejected our null hypothesis which suggested that the user ratings from Action and Sports genres differs, meaning users enjoy playing one genre than the other.\n",
    "\n",
    "The global aim of this project is the PREDICTION of the sales, popularity, profitability of the platforms, so we need to analyze not past but now and future as it is mentioned in the instruction:\n",
    "\n",
    "From our analysis, we can conclude that there will be increase in sales of new platforms like PS4 and XOne as they are yet to be at their peak globally.  \n",
    "For North America and Europe market, Action and shooting games with M rating irrespective of the platform will see increase in sales in 2017. And also, games with high critic score of 70 and above will be profitable.\n",
    "For the Japan market, Role-playing games without esrb rating will be more profitable. \n",
    "\n",
    "[<a href=\"#Table-of-contents\">Back to top</a>]"
   ]
  }
 ],
 "metadata": {
  "kernelspec": {
   "display_name": "Python 3",
   "language": "python",
   "name": "python3"
  },
  "language_info": {
   "codemirror_mode": {
    "name": "ipython",
    "version": 3
   },
   "file_extension": ".py",
   "mimetype": "text/x-python",
   "name": "python",
   "nbconvert_exporter": "python",
   "pygments_lexer": "ipython3",
   "version": "3.7.6"
  },
  "toc": {
   "base_numbering": 1,
   "nav_menu": {},
   "number_sections": true,
   "sideBar": true,
   "skip_h1_title": true,
   "title_cell": "Table of Contents",
   "title_sidebar": "Contents",
   "toc_cell": false,
   "toc_position": {},
   "toc_section_display": true,
   "toc_window_display": false
  }
 },
 "nbformat": 4,
 "nbformat_minor": 2
}
